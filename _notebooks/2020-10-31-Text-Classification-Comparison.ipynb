{
 "cells": [
  {
   "cell_type": "markdown",
   "metadata": {},
   "source": [
    "# \"A Comparison of TF-IDF, Word2Vec, and Transfer Learning for Text Classification\"\n",
    "\n",
    "- toc: true\n",
    "- author: David Byron\n",
    "- comments: true\n",
    "- categories: [tf-idf, word2vec, neural networks, text classification, natural language processing]"
   ]
  },
  {
   "cell_type": "code",
   "execution_count": 1,
   "metadata": {},
   "outputs": [],
   "source": [
    "#hide\n",
    "import warnings\n",
    "warnings.filterwarnings('ignore')"
   ]
  },
  {
   "cell_type": "markdown",
   "metadata": {},
   "source": [
    "Text Classification is the assignment of a particular label to a text with respect to its content. In modern Natural Language Processing (NLP), there are many different algorithms and techniques used to gain significant accuracy in text classification tasks.\n",
    "\n",
    "In this notebook, we will cover three of the most popular methods for text classification: TF-IDF, Word2Vec, and transfer learning. For each of the three methods, we will also show their effectiveness based on the amount of preprocessing that is done to the text beforehand, leaving us with a total of nine measurements at the end.\n",
    "\n",
    "We will see that transfer learning is by far the superior method for the task in terms of ease of use and accuracy.\n",
    "\n",
    "The data that we will be using comes from [Kaggle's \"Real or Not? NLP with Disaster Tweets\"](https://www.kaggle.com/c/nlp-getting-started) competition, where the user is tasked with predicting which tweets are about real disasters, and which ones are not.\n",
    "\n",
    "In the competition, leaderboard position is based on the model's F1 score. Therefore, for clarity, we will provide both the accuracy and F1 score for each output below.\n",
    "\n",
    "To begin, let's start with some data analysis and augmentation:"
   ]
  },
  {
   "cell_type": "markdown",
   "metadata": {},
   "source": [
    "## Data Analysis, Augmentation, and Splitting"
   ]
  },
  {
   "cell_type": "markdown",
   "metadata": {},
   "source": [
    "### Light Analysis"
   ]
  },
  {
   "cell_type": "code",
   "execution_count": 2,
   "metadata": {},
   "outputs": [],
   "source": [
    "#collapse\n",
    "import pandas as pd"
   ]
  },
  {
   "cell_type": "markdown",
   "metadata": {},
   "source": [
    "First, let's take a look at the training data we're given:"
   ]
  },
  {
   "cell_type": "code",
   "execution_count": 3,
   "metadata": {},
   "outputs": [
    {
     "data": {
      "text/html": [
       "<div>\n",
       "<style scoped>\n",
       "    .dataframe tbody tr th:only-of-type {\n",
       "        vertical-align: middle;\n",
       "    }\n",
       "\n",
       "    .dataframe tbody tr th {\n",
       "        vertical-align: top;\n",
       "    }\n",
       "\n",
       "    .dataframe thead th {\n",
       "        text-align: right;\n",
       "    }\n",
       "</style>\n",
       "<table border=\"1\" class=\"dataframe\">\n",
       "  <thead>\n",
       "    <tr style=\"text-align: right;\">\n",
       "      <th></th>\n",
       "      <th>id</th>\n",
       "      <th>keyword</th>\n",
       "      <th>location</th>\n",
       "      <th>text</th>\n",
       "      <th>target</th>\n",
       "    </tr>\n",
       "  </thead>\n",
       "  <tbody>\n",
       "    <tr>\n",
       "      <th>0</th>\n",
       "      <td>1</td>\n",
       "      <td>NaN</td>\n",
       "      <td>NaN</td>\n",
       "      <td>Our Deeds are the Reason of this #earthquake M...</td>\n",
       "      <td>1</td>\n",
       "    </tr>\n",
       "    <tr>\n",
       "      <th>1</th>\n",
       "      <td>4</td>\n",
       "      <td>NaN</td>\n",
       "      <td>NaN</td>\n",
       "      <td>Forest fire near La Ronge Sask. Canada</td>\n",
       "      <td>1</td>\n",
       "    </tr>\n",
       "    <tr>\n",
       "      <th>2</th>\n",
       "      <td>5</td>\n",
       "      <td>NaN</td>\n",
       "      <td>NaN</td>\n",
       "      <td>All residents asked to 'shelter in place' are ...</td>\n",
       "      <td>1</td>\n",
       "    </tr>\n",
       "    <tr>\n",
       "      <th>3</th>\n",
       "      <td>6</td>\n",
       "      <td>NaN</td>\n",
       "      <td>NaN</td>\n",
       "      <td>13,000 people receive #wildfires evacuation or...</td>\n",
       "      <td>1</td>\n",
       "    </tr>\n",
       "    <tr>\n",
       "      <th>4</th>\n",
       "      <td>7</td>\n",
       "      <td>NaN</td>\n",
       "      <td>NaN</td>\n",
       "      <td>Just got sent this photo from Ruby #Alaska as ...</td>\n",
       "      <td>1</td>\n",
       "    </tr>\n",
       "  </tbody>\n",
       "</table>\n",
       "</div>"
      ],
      "text/plain": [
       "   id keyword location                                               text  \\\n",
       "0   1     NaN      NaN  Our Deeds are the Reason of this #earthquake M...   \n",
       "1   4     NaN      NaN             Forest fire near La Ronge Sask. Canada   \n",
       "2   5     NaN      NaN  All residents asked to 'shelter in place' are ...   \n",
       "3   6     NaN      NaN  13,000 people receive #wildfires evacuation or...   \n",
       "4   7     NaN      NaN  Just got sent this photo from Ruby #Alaska as ...   \n",
       "\n",
       "   target  \n",
       "0       1  \n",
       "1       1  \n",
       "2       1  \n",
       "3       1  \n",
       "4       1  "
      ]
     },
     "execution_count": 3,
     "metadata": {},
     "output_type": "execute_result"
    }
   ],
   "source": [
    "data = pd.read_csv('./data/disaster_tweets/train.csv')\n",
    "data.head()"
   ]
  },
  {
   "cell_type": "markdown",
   "metadata": {},
   "source": [
    "To find out a bit more information about the data, we can use the `.info()` and `.nunique()` methods on our DataFrame:"
   ]
  },
  {
   "cell_type": "code",
   "execution_count": 4,
   "metadata": {},
   "outputs": [
    {
     "name": "stdout",
     "output_type": "stream",
     "text": [
      "<class 'pandas.core.frame.DataFrame'>\n",
      "RangeIndex: 7613 entries, 0 to 7612\n",
      "Data columns (total 5 columns):\n",
      " #   Column    Non-Null Count  Dtype \n",
      "---  ------    --------------  ----- \n",
      " 0   id        7613 non-null   int64 \n",
      " 1   keyword   7552 non-null   object\n",
      " 2   location  5080 non-null   object\n",
      " 3   text      7613 non-null   object\n",
      " 4   target    7613 non-null   int64 \n",
      "dtypes: int64(2), object(3)\n",
      "memory usage: 297.5+ KB\n"
     ]
    }
   ],
   "source": [
    "data.info()"
   ]
  },
  {
   "cell_type": "code",
   "execution_count": 5,
   "metadata": {},
   "outputs": [
    {
     "data": {
      "text/plain": [
       "id          7613\n",
       "keyword      221\n",
       "location    3341\n",
       "text        7503\n",
       "target         2\n",
       "dtype: int64"
      ]
     },
     "execution_count": 5,
     "metadata": {},
     "output_type": "execute_result"
    }
   ],
   "source": [
    "data.nunique()"
   ]
  },
  {
   "cell_type": "markdown",
   "metadata": {},
   "source": [
    "Interesting! It looks like some of the tweets (110 of them, to be precise) are the same."
   ]
  },
  {
   "cell_type": "markdown",
   "metadata": {},
   "source": [
    "### Data Augmentation"
   ]
  },
  {
   "cell_type": "markdown",
   "metadata": {},
   "source": [
    "#### Cleaning"
   ]
  },
  {
   "cell_type": "code",
   "execution_count": 6,
   "metadata": {},
   "outputs": [],
   "source": [
    "#collapse\n",
    "import re\n",
    "import spacy"
   ]
  },
  {
   "cell_type": "markdown",
   "metadata": {},
   "source": [
    "As mentioned above, I will incorporate different methods of preprocessing to our data to see if such changes have a positive or negative effect on our evaluation metrics. The three differently processed data I'll be using are:\n",
    "\n",
    "1. Unprocessed - the data as it is given to us.\n",
    "2. \"Simply\" cleaned - the data without any hashtags, @-symbols, website links, or punctuation.\n",
    "3. SpaCy cleaned - the data lemmatized and without any stop words according to SpaCy's pretrained English language model (which we'll get to in a moment).\n",
    "\n",
    "The unprocessed data is already done for us in the `text` column of our DataFrame.\n",
    "\n",
    "Moving on to the second preprocessing method, \"simply\" cleaned data. By \"simply\" I mean cleaned explicitly by me using [regular expressions](https://docs.python.org/3/library/re.html) with prior assumptions about the data. For the data we're using here, we have a bunch of tweets. Thererfore, it makes sense to me to remove things like hashtags, @-symbols, and websites, since those don't intuitively seem like they contribute to a tweets disaster level (though this isn't necessarily true, just an assumption!).\n",
    "\n",
    "To achieve this \"simple\" cleaning of the data, we can use the following three functions I've created:"
   ]
  },
  {
   "cell_type": "code",
   "execution_count": 7,
   "metadata": {},
   "outputs": [],
   "source": [
    "def remove_at_hash(sent):\n",
    "    \"\"\" Returns a string with @-symbols and hashtags removed. \"\"\"\n",
    "    return re.sub(r'@|#', r'', sent.lower())\n",
    "\n",
    "def remove_sites(sent):\n",
    "    \"\"\" Returns a string with any websites starting with 'http.' removed. \"\"\"\n",
    "    return re.sub(r'http.*', r'', sent.lower())\n",
    "\n",
    "def remove_punct(sent):\n",
    "    \"\"\" Returns a string with only English unicode word characters ([a-zA-Z0-9_]). \"\"\"\n",
    "    return ' '.join(re.findall(r'\\w+', sent.lower()))"
   ]
  },
  {
   "cell_type": "markdown",
   "metadata": {},
   "source": [
    "Now we can create a new column in our `data` DataFrame that represents the \"simply\" cleaned tweets. I'll call this column `text_simple`."
   ]
  },
  {
   "cell_type": "code",
   "execution_count": 8,
   "metadata": {},
   "outputs": [
    {
     "data": {
      "text/html": [
       "<div>\n",
       "<style scoped>\n",
       "    .dataframe tbody tr th:only-of-type {\n",
       "        vertical-align: middle;\n",
       "    }\n",
       "\n",
       "    .dataframe tbody tr th {\n",
       "        vertical-align: top;\n",
       "    }\n",
       "\n",
       "    .dataframe thead th {\n",
       "        text-align: right;\n",
       "    }\n",
       "</style>\n",
       "<table border=\"1\" class=\"dataframe\">\n",
       "  <thead>\n",
       "    <tr style=\"text-align: right;\">\n",
       "      <th></th>\n",
       "      <th>id</th>\n",
       "      <th>keyword</th>\n",
       "      <th>location</th>\n",
       "      <th>text</th>\n",
       "      <th>target</th>\n",
       "      <th>text_simple</th>\n",
       "    </tr>\n",
       "  </thead>\n",
       "  <tbody>\n",
       "    <tr>\n",
       "      <th>0</th>\n",
       "      <td>1</td>\n",
       "      <td>NaN</td>\n",
       "      <td>NaN</td>\n",
       "      <td>Our Deeds are the Reason of this #earthquake M...</td>\n",
       "      <td>1</td>\n",
       "      <td>our deeds are the reason of this earthquake ma...</td>\n",
       "    </tr>\n",
       "    <tr>\n",
       "      <th>1</th>\n",
       "      <td>4</td>\n",
       "      <td>NaN</td>\n",
       "      <td>NaN</td>\n",
       "      <td>Forest fire near La Ronge Sask. Canada</td>\n",
       "      <td>1</td>\n",
       "      <td>forest fire near la ronge sask canada</td>\n",
       "    </tr>\n",
       "    <tr>\n",
       "      <th>2</th>\n",
       "      <td>5</td>\n",
       "      <td>NaN</td>\n",
       "      <td>NaN</td>\n",
       "      <td>All residents asked to 'shelter in place' are ...</td>\n",
       "      <td>1</td>\n",
       "      <td>all residents asked to shelter in place are be...</td>\n",
       "    </tr>\n",
       "    <tr>\n",
       "      <th>3</th>\n",
       "      <td>6</td>\n",
       "      <td>NaN</td>\n",
       "      <td>NaN</td>\n",
       "      <td>13,000 people receive #wildfires evacuation or...</td>\n",
       "      <td>1</td>\n",
       "      <td>13 000 people receive wildfires evacuation ord...</td>\n",
       "    </tr>\n",
       "    <tr>\n",
       "      <th>4</th>\n",
       "      <td>7</td>\n",
       "      <td>NaN</td>\n",
       "      <td>NaN</td>\n",
       "      <td>Just got sent this photo from Ruby #Alaska as ...</td>\n",
       "      <td>1</td>\n",
       "      <td>just got sent this photo from ruby alaska as s...</td>\n",
       "    </tr>\n",
       "  </tbody>\n",
       "</table>\n",
       "</div>"
      ],
      "text/plain": [
       "   id keyword location                                               text  \\\n",
       "0   1     NaN      NaN  Our Deeds are the Reason of this #earthquake M...   \n",
       "1   4     NaN      NaN             Forest fire near La Ronge Sask. Canada   \n",
       "2   5     NaN      NaN  All residents asked to 'shelter in place' are ...   \n",
       "3   6     NaN      NaN  13,000 people receive #wildfires evacuation or...   \n",
       "4   7     NaN      NaN  Just got sent this photo from Ruby #Alaska as ...   \n",
       "\n",
       "   target                                        text_simple  \n",
       "0       1  our deeds are the reason of this earthquake ma...  \n",
       "1       1              forest fire near la ronge sask canada  \n",
       "2       1  all residents asked to shelter in place are be...  \n",
       "3       1  13 000 people receive wildfires evacuation ord...  \n",
       "4       1  just got sent this photo from ruby alaska as s...  "
      ]
     },
     "execution_count": 8,
     "metadata": {},
     "output_type": "execute_result"
    }
   ],
   "source": [
    "data['text_simple'] = data['text'].apply(lambda x: remove_punct(remove_sites(remove_at_hash(x))))\n",
    "data.head()"
   ]
  },
  {
   "cell_type": "markdown",
   "metadata": {},
   "source": [
    "Moving now to the last preprocessing method: SpaCy. [SpaCy](https://spacy.io/) is a great, open-source software library for NLP. It includes varying, pretrained language models of a number of different sizes for a number of different langauges, allowing you to quickly perform routine NLP tasks. Here, we're going to use SpaCy to [lemmatize](https://nlp.stanford.edu/IR-book/html/htmledition/stemming-and-lemmatization-1.html) each tweet in the data and remove any [stop words](https://en.wikipedia.org/wiki/Stop_word).\n",
    "\n",
    "Below, we need to first load in SpaCy's (full) English model (note that, for speed, I disable some features that we won't need here). Then, create a function that will give us a string lemmatized by SpaCy."
   ]
  },
  {
   "cell_type": "code",
   "execution_count": 9,
   "metadata": {},
   "outputs": [],
   "source": [
    "nlp = spacy.load('en', disable=['ner', 'parser'])\n",
    "\n",
    "def spacy_cleaning(doc):\n",
    "    \"\"\" Returns a string that has been lemmatized and rid of stop words via SpaCy. \"\"\"\n",
    "    doc = nlp(doc.lower())\n",
    "    text = [token.lemma_ for token in doc if not token.is_stop]\n",
    "    return ' '.join(text)"
   ]
  },
  {
   "cell_type": "markdown",
   "metadata": {},
   "source": [
    "Using our new function, we can again create a new column in our `data` DataFrame with the SpaCy-cleaned tweets. I'll call this column `text_spacy`."
   ]
  },
  {
   "cell_type": "code",
   "execution_count": 10,
   "metadata": {},
   "outputs": [
    {
     "data": {
      "text/html": [
       "<div>\n",
       "<style scoped>\n",
       "    .dataframe tbody tr th:only-of-type {\n",
       "        vertical-align: middle;\n",
       "    }\n",
       "\n",
       "    .dataframe tbody tr th {\n",
       "        vertical-align: top;\n",
       "    }\n",
       "\n",
       "    .dataframe thead th {\n",
       "        text-align: right;\n",
       "    }\n",
       "</style>\n",
       "<table border=\"1\" class=\"dataframe\">\n",
       "  <thead>\n",
       "    <tr style=\"text-align: right;\">\n",
       "      <th></th>\n",
       "      <th>id</th>\n",
       "      <th>keyword</th>\n",
       "      <th>location</th>\n",
       "      <th>text</th>\n",
       "      <th>target</th>\n",
       "      <th>text_simple</th>\n",
       "      <th>text_spacy</th>\n",
       "    </tr>\n",
       "  </thead>\n",
       "  <tbody>\n",
       "    <tr>\n",
       "      <th>0</th>\n",
       "      <td>1</td>\n",
       "      <td>NaN</td>\n",
       "      <td>NaN</td>\n",
       "      <td>Our Deeds are the Reason of this #earthquake M...</td>\n",
       "      <td>1</td>\n",
       "      <td>our deeds are the reason of this earthquake ma...</td>\n",
       "      <td>deed reason # earthquake allah forgive</td>\n",
       "    </tr>\n",
       "    <tr>\n",
       "      <th>1</th>\n",
       "      <td>4</td>\n",
       "      <td>NaN</td>\n",
       "      <td>NaN</td>\n",
       "      <td>Forest fire near La Ronge Sask. Canada</td>\n",
       "      <td>1</td>\n",
       "      <td>forest fire near la ronge sask canada</td>\n",
       "      <td>forest fire near la ronge sask . canada</td>\n",
       "    </tr>\n",
       "    <tr>\n",
       "      <th>2</th>\n",
       "      <td>5</td>\n",
       "      <td>NaN</td>\n",
       "      <td>NaN</td>\n",
       "      <td>All residents asked to 'shelter in place' are ...</td>\n",
       "      <td>1</td>\n",
       "      <td>all residents asked to shelter in place are be...</td>\n",
       "      <td>resident ask ' shelter place ' notify officer ...</td>\n",
       "    </tr>\n",
       "    <tr>\n",
       "      <th>3</th>\n",
       "      <td>6</td>\n",
       "      <td>NaN</td>\n",
       "      <td>NaN</td>\n",
       "      <td>13,000 people receive #wildfires evacuation or...</td>\n",
       "      <td>1</td>\n",
       "      <td>13 000 people receive wildfires evacuation ord...</td>\n",
       "      <td>13,000 people receive # wildfire evacuation or...</td>\n",
       "    </tr>\n",
       "    <tr>\n",
       "      <th>4</th>\n",
       "      <td>7</td>\n",
       "      <td>NaN</td>\n",
       "      <td>NaN</td>\n",
       "      <td>Just got sent this photo from Ruby #Alaska as ...</td>\n",
       "      <td>1</td>\n",
       "      <td>just got sent this photo from ruby alaska as s...</td>\n",
       "      <td>get send photo ruby # alaska smoke # wildfire ...</td>\n",
       "    </tr>\n",
       "  </tbody>\n",
       "</table>\n",
       "</div>"
      ],
      "text/plain": [
       "   id keyword location                                               text  \\\n",
       "0   1     NaN      NaN  Our Deeds are the Reason of this #earthquake M...   \n",
       "1   4     NaN      NaN             Forest fire near La Ronge Sask. Canada   \n",
       "2   5     NaN      NaN  All residents asked to 'shelter in place' are ...   \n",
       "3   6     NaN      NaN  13,000 people receive #wildfires evacuation or...   \n",
       "4   7     NaN      NaN  Just got sent this photo from Ruby #Alaska as ...   \n",
       "\n",
       "   target                                        text_simple  \\\n",
       "0       1  our deeds are the reason of this earthquake ma...   \n",
       "1       1              forest fire near la ronge sask canada   \n",
       "2       1  all residents asked to shelter in place are be...   \n",
       "3       1  13 000 people receive wildfires evacuation ord...   \n",
       "4       1  just got sent this photo from ruby alaska as s...   \n",
       "\n",
       "                                          text_spacy  \n",
       "0             deed reason # earthquake allah forgive  \n",
       "1            forest fire near la ronge sask . canada  \n",
       "2  resident ask ' shelter place ' notify officer ...  \n",
       "3  13,000 people receive # wildfire evacuation or...  \n",
       "4  get send photo ruby # alaska smoke # wildfire ...  "
      ]
     },
     "execution_count": 10,
     "metadata": {},
     "output_type": "execute_result"
    }
   ],
   "source": [
    "data['text_spacy'] = data['text'].apply(lambda x: spacy_cleaning(x))\n",
    "data.head()"
   ]
  },
  {
   "cell_type": "markdown",
   "metadata": {},
   "source": [
    "#### n-grams"
   ]
  },
  {
   "cell_type": "code",
   "execution_count": 11,
   "metadata": {},
   "outputs": [],
   "source": [
    "#collapse\n",
    "from gensim.models.phrases import Phrases, Phraser"
   ]
  },
  {
   "cell_type": "markdown",
   "metadata": {},
   "source": [
    "> Important: I'll only be applying what we learn in the n-gram section to the Word2Vec model. If you'd like to skip this section, and come back when you get to Word2Vec, feel free to do so."
   ]
  },
  {
   "cell_type": "markdown",
   "metadata": {},
   "source": [
    "An [n-gram](https://en.wikipedia.org/wiki/N-gram#:~:text=In%20the%20fields%20of%20computational,a%20text%20or%20speech%20corpus.) is a contiguous sequence of *n* items from a given sample of text or speech. This turns out to be quite useful in NLP. Consider the phrase \"New York Times\". When all three words are together, the phrase is understood to mean the widely spread news source based in New York of the same moniker. However, if we split the words up (while maintaining original order), we get: \"New York\", \"York Times\", \"New\", \"York\", and \"Times\". These separate words and phrases can occur in many contexts other than those in which the full phrase \"New York Times\" is found, skewing the phrase's true meaning in the data. N-gram models allow us to concatenate these commonly occurring multi-word phrases in our data, allowing their true meaning to shine through.\n",
    "\n",
    "Thankfully, we can use the `Phraser` and `Phrases` classes provided by [gensim](https://radimrehurek.com/gensim/) in order to easily find n-grams in our data.\n",
    "\n",
    "Let's start by getting trigrams found in the unprocessed data.\n",
    "\n",
    "First, we extract the tweets and split them by whitespace characters."
   ]
  },
  {
   "cell_type": "code",
   "execution_count": 12,
   "metadata": {},
   "outputs": [],
   "source": [
    "text = [re.split('\\s+', tweet) for tweet in data['text']]"
   ]
  },
  {
   "cell_type": "markdown",
   "metadata": {},
   "source": [
    "Then, we find bigrams throughout our data. Here we use a parameter of `min_count=30` for our `Phrases` class. This ensures that only bigrams that occur more than 30 times in the data are found. Many combinations of words occur side by side only a few times, and don't contribute much additional knowledge to our model, so this is important."
   ]
  },
  {
   "cell_type": "code",
   "execution_count": 13,
   "metadata": {},
   "outputs": [],
   "source": [
    "bigram_phrases = Phrases(text, min_count=30)\n",
    "bigram = Phraser(bigram_phrases)\n",
    "bigram_text = bigram[text]"
   ]
  },
  {
   "cell_type": "markdown",
   "metadata": {},
   "source": [
    "Next, we can use the bigrams we just made to search for trigrams in the exact same way.\n",
    "\n",
    "> Note: This is repeatable! Keep going to find n-grams of size 5 if you wanted!"
   ]
  },
  {
   "cell_type": "code",
   "execution_count": 14,
   "metadata": {},
   "outputs": [],
   "source": [
    "trigram_phrases = Phrases(bigram_text, min_count=30)\n",
    "trigram = Phraser(trigram_phrases)\n",
    "trigram_text = trigram[bigram_text]"
   ]
  },
  {
   "cell_type": "markdown",
   "metadata": {},
   "source": [
    "That's it! Now we can pop this list back into our `data` DataFrame to be used later."
   ]
  },
  {
   "cell_type": "code",
   "execution_count": 15,
   "metadata": {},
   "outputs": [
    {
     "data": {
      "text/html": [
       "<div>\n",
       "<style scoped>\n",
       "    .dataframe tbody tr th:only-of-type {\n",
       "        vertical-align: middle;\n",
       "    }\n",
       "\n",
       "    .dataframe tbody tr th {\n",
       "        vertical-align: top;\n",
       "    }\n",
       "\n",
       "    .dataframe thead th {\n",
       "        text-align: right;\n",
       "    }\n",
       "</style>\n",
       "<table border=\"1\" class=\"dataframe\">\n",
       "  <thead>\n",
       "    <tr style=\"text-align: right;\">\n",
       "      <th></th>\n",
       "      <th>id</th>\n",
       "      <th>keyword</th>\n",
       "      <th>location</th>\n",
       "      <th>text</th>\n",
       "      <th>target</th>\n",
       "      <th>text_simple</th>\n",
       "      <th>text_spacy</th>\n",
       "      <th>text_trigram</th>\n",
       "    </tr>\n",
       "  </thead>\n",
       "  <tbody>\n",
       "    <tr>\n",
       "      <th>0</th>\n",
       "      <td>1</td>\n",
       "      <td>NaN</td>\n",
       "      <td>NaN</td>\n",
       "      <td>Our Deeds are the Reason of this #earthquake M...</td>\n",
       "      <td>1</td>\n",
       "      <td>our deeds are the reason of this earthquake ma...</td>\n",
       "      <td>deed reason # earthquake allah forgive</td>\n",
       "      <td>Our Deeds are the Reason of this #earthquake M...</td>\n",
       "    </tr>\n",
       "    <tr>\n",
       "      <th>1</th>\n",
       "      <td>4</td>\n",
       "      <td>NaN</td>\n",
       "      <td>NaN</td>\n",
       "      <td>Forest fire near La Ronge Sask. Canada</td>\n",
       "      <td>1</td>\n",
       "      <td>forest fire near la ronge sask canada</td>\n",
       "      <td>forest fire near la ronge sask . canada</td>\n",
       "      <td>Forest fire near La Ronge Sask. Canada</td>\n",
       "    </tr>\n",
       "    <tr>\n",
       "      <th>2</th>\n",
       "      <td>5</td>\n",
       "      <td>NaN</td>\n",
       "      <td>NaN</td>\n",
       "      <td>All residents asked to 'shelter in place' are ...</td>\n",
       "      <td>1</td>\n",
       "      <td>all residents asked to shelter in place are be...</td>\n",
       "      <td>resident ask ' shelter place ' notify officer ...</td>\n",
       "      <td>All residents asked to 'shelter in place' are ...</td>\n",
       "    </tr>\n",
       "    <tr>\n",
       "      <th>3</th>\n",
       "      <td>6</td>\n",
       "      <td>NaN</td>\n",
       "      <td>NaN</td>\n",
       "      <td>13,000 people receive #wildfires evacuation or...</td>\n",
       "      <td>1</td>\n",
       "      <td>13 000 people receive wildfires evacuation ord...</td>\n",
       "      <td>13,000 people receive # wildfire evacuation or...</td>\n",
       "      <td>13,000 people receive #wildfires evacuation or...</td>\n",
       "    </tr>\n",
       "    <tr>\n",
       "      <th>4</th>\n",
       "      <td>7</td>\n",
       "      <td>NaN</td>\n",
       "      <td>NaN</td>\n",
       "      <td>Just got sent this photo from Ruby #Alaska as ...</td>\n",
       "      <td>1</td>\n",
       "      <td>just got sent this photo from ruby alaska as s...</td>\n",
       "      <td>get send photo ruby # alaska smoke # wildfire ...</td>\n",
       "      <td>Just got sent this photo from Ruby #Alaska as ...</td>\n",
       "    </tr>\n",
       "  </tbody>\n",
       "</table>\n",
       "</div>"
      ],
      "text/plain": [
       "   id keyword location                                               text  \\\n",
       "0   1     NaN      NaN  Our Deeds are the Reason of this #earthquake M...   \n",
       "1   4     NaN      NaN             Forest fire near La Ronge Sask. Canada   \n",
       "2   5     NaN      NaN  All residents asked to 'shelter in place' are ...   \n",
       "3   6     NaN      NaN  13,000 people receive #wildfires evacuation or...   \n",
       "4   7     NaN      NaN  Just got sent this photo from Ruby #Alaska as ...   \n",
       "\n",
       "   target                                        text_simple  \\\n",
       "0       1  our deeds are the reason of this earthquake ma...   \n",
       "1       1              forest fire near la ronge sask canada   \n",
       "2       1  all residents asked to shelter in place are be...   \n",
       "3       1  13 000 people receive wildfires evacuation ord...   \n",
       "4       1  just got sent this photo from ruby alaska as s...   \n",
       "\n",
       "                                          text_spacy  \\\n",
       "0             deed reason # earthquake allah forgive   \n",
       "1            forest fire near la ronge sask . canada   \n",
       "2  resident ask ' shelter place ' notify officer ...   \n",
       "3  13,000 people receive # wildfire evacuation or...   \n",
       "4  get send photo ruby # alaska smoke # wildfire ...   \n",
       "\n",
       "                                        text_trigram  \n",
       "0  Our Deeds are the Reason of this #earthquake M...  \n",
       "1             Forest fire near La Ronge Sask. Canada  \n",
       "2  All residents asked to 'shelter in place' are ...  \n",
       "3  13,000 people receive #wildfires evacuation or...  \n",
       "4  Just got sent this photo from Ruby #Alaska as ...  "
      ]
     },
     "execution_count": 15,
     "metadata": {},
     "output_type": "execute_result"
    }
   ],
   "source": [
    "data['text_trigram'] = [' '.join(tweet) for tweet in trigram_text]\n",
    "data.head()"
   ]
  },
  {
   "cell_type": "markdown",
   "metadata": {},
   "source": [
    "Great work! Now let's do the same for the `text_simple` and `text_spacy` columns."
   ]
  },
  {
   "cell_type": "code",
   "execution_count": 16,
   "metadata": {},
   "outputs": [],
   "source": [
    "#collapse\n",
    "text_simple = [re.split('\\s+', tweet) for tweet in data['text_simple']]\n",
    "\n",
    "bigram_phrases = Phrases(text_simple, min_count=30)\n",
    "bigram = Phraser(bigram_phrases)\n",
    "bigram_text_simple = bigram[text_simple]\n",
    "\n",
    "trigram_phrases = Phrases(bigram_text_simple, min_count=30)\n",
    "trigram = Phraser(trigram_phrases)\n",
    "trigram_text_simple = trigram[bigram_text_simple]\n",
    "\n",
    "data['text_trigram_simple'] = [' '.join(tweet) for tweet in trigram_text_simple]"
   ]
  },
  {
   "cell_type": "code",
   "execution_count": 17,
   "metadata": {},
   "outputs": [],
   "source": [
    "#collapse\n",
    "text_spacy = [re.split('\\s+', tweet) for tweet in data['text_spacy']]\n",
    "\n",
    "bigram_phrases = Phrases(text_spacy, min_count=30)\n",
    "bigram = Phraser(bigram_phrases)\n",
    "bigram_text_spacy = bigram[text_spacy]\n",
    "\n",
    "trigram_phrases = Phrases(bigram_text_spacy, min_count=30)\n",
    "trigram = Phraser(trigram_phrases)\n",
    "trigram_text_spacy = trigram[bigram_text_spacy]\n",
    "\n",
    "data['text_trigram_spacy'] = [' '.join(tweet) for tweet in trigram_text_spacy]"
   ]
  },
  {
   "cell_type": "code",
   "execution_count": 18,
   "metadata": {},
   "outputs": [
    {
     "data": {
      "text/html": [
       "<div>\n",
       "<style scoped>\n",
       "    .dataframe tbody tr th:only-of-type {\n",
       "        vertical-align: middle;\n",
       "    }\n",
       "\n",
       "    .dataframe tbody tr th {\n",
       "        vertical-align: top;\n",
       "    }\n",
       "\n",
       "    .dataframe thead th {\n",
       "        text-align: right;\n",
       "    }\n",
       "</style>\n",
       "<table border=\"1\" class=\"dataframe\">\n",
       "  <thead>\n",
       "    <tr style=\"text-align: right;\">\n",
       "      <th></th>\n",
       "      <th>id</th>\n",
       "      <th>keyword</th>\n",
       "      <th>location</th>\n",
       "      <th>text</th>\n",
       "      <th>target</th>\n",
       "      <th>text_simple</th>\n",
       "      <th>text_spacy</th>\n",
       "      <th>text_trigram</th>\n",
       "      <th>text_trigram_simple</th>\n",
       "      <th>text_trigram_spacy</th>\n",
       "    </tr>\n",
       "  </thead>\n",
       "  <tbody>\n",
       "    <tr>\n",
       "      <th>0</th>\n",
       "      <td>1</td>\n",
       "      <td>NaN</td>\n",
       "      <td>NaN</td>\n",
       "      <td>Our Deeds are the Reason of this #earthquake M...</td>\n",
       "      <td>1</td>\n",
       "      <td>our deeds are the reason of this earthquake ma...</td>\n",
       "      <td>deed reason # earthquake allah forgive</td>\n",
       "      <td>Our Deeds are the Reason of this #earthquake M...</td>\n",
       "      <td>our deeds are the reason of this earthquake ma...</td>\n",
       "      <td>deed reason # earthquake allah forgive</td>\n",
       "    </tr>\n",
       "    <tr>\n",
       "      <th>1</th>\n",
       "      <td>4</td>\n",
       "      <td>NaN</td>\n",
       "      <td>NaN</td>\n",
       "      <td>Forest fire near La Ronge Sask. Canada</td>\n",
       "      <td>1</td>\n",
       "      <td>forest fire near la ronge sask canada</td>\n",
       "      <td>forest fire near la ronge sask . canada</td>\n",
       "      <td>Forest fire near La Ronge Sask. Canada</td>\n",
       "      <td>forest fire near la ronge sask canada</td>\n",
       "      <td>forest fire near la ronge sask . canada</td>\n",
       "    </tr>\n",
       "    <tr>\n",
       "      <th>2</th>\n",
       "      <td>5</td>\n",
       "      <td>NaN</td>\n",
       "      <td>NaN</td>\n",
       "      <td>All residents asked to 'shelter in place' are ...</td>\n",
       "      <td>1</td>\n",
       "      <td>all residents asked to shelter in place are be...</td>\n",
       "      <td>resident ask ' shelter place ' notify officer ...</td>\n",
       "      <td>All residents asked to 'shelter in place' are ...</td>\n",
       "      <td>all residents asked to shelter in place are be...</td>\n",
       "      <td>resident ask ' shelter place ' notify officer ...</td>\n",
       "    </tr>\n",
       "    <tr>\n",
       "      <th>3</th>\n",
       "      <td>6</td>\n",
       "      <td>NaN</td>\n",
       "      <td>NaN</td>\n",
       "      <td>13,000 people receive #wildfires evacuation or...</td>\n",
       "      <td>1</td>\n",
       "      <td>13 000 people receive wildfires evacuation ord...</td>\n",
       "      <td>13,000 people receive # wildfire evacuation or...</td>\n",
       "      <td>13,000 people receive #wildfires evacuation or...</td>\n",
       "      <td>13 000 people receive wildfires evacuation ord...</td>\n",
       "      <td>13,000 people receive # wildfire evacuation or...</td>\n",
       "    </tr>\n",
       "    <tr>\n",
       "      <th>4</th>\n",
       "      <td>7</td>\n",
       "      <td>NaN</td>\n",
       "      <td>NaN</td>\n",
       "      <td>Just got sent this photo from Ruby #Alaska as ...</td>\n",
       "      <td>1</td>\n",
       "      <td>just got sent this photo from ruby alaska as s...</td>\n",
       "      <td>get send photo ruby # alaska smoke # wildfire ...</td>\n",
       "      <td>Just got sent this photo from Ruby #Alaska as ...</td>\n",
       "      <td>just got sent this photo from ruby alaska as s...</td>\n",
       "      <td>get send photo ruby # alaska smoke # wildfire ...</td>\n",
       "    </tr>\n",
       "  </tbody>\n",
       "</table>\n",
       "</div>"
      ],
      "text/plain": [
       "   id keyword location                                               text  \\\n",
       "0   1     NaN      NaN  Our Deeds are the Reason of this #earthquake M...   \n",
       "1   4     NaN      NaN             Forest fire near La Ronge Sask. Canada   \n",
       "2   5     NaN      NaN  All residents asked to 'shelter in place' are ...   \n",
       "3   6     NaN      NaN  13,000 people receive #wildfires evacuation or...   \n",
       "4   7     NaN      NaN  Just got sent this photo from Ruby #Alaska as ...   \n",
       "\n",
       "   target                                        text_simple  \\\n",
       "0       1  our deeds are the reason of this earthquake ma...   \n",
       "1       1              forest fire near la ronge sask canada   \n",
       "2       1  all residents asked to shelter in place are be...   \n",
       "3       1  13 000 people receive wildfires evacuation ord...   \n",
       "4       1  just got sent this photo from ruby alaska as s...   \n",
       "\n",
       "                                          text_spacy  \\\n",
       "0             deed reason # earthquake allah forgive   \n",
       "1            forest fire near la ronge sask . canada   \n",
       "2  resident ask ' shelter place ' notify officer ...   \n",
       "3  13,000 people receive # wildfire evacuation or...   \n",
       "4  get send photo ruby # alaska smoke # wildfire ...   \n",
       "\n",
       "                                        text_trigram  \\\n",
       "0  Our Deeds are the Reason of this #earthquake M...   \n",
       "1             Forest fire near La Ronge Sask. Canada   \n",
       "2  All residents asked to 'shelter in place' are ...   \n",
       "3  13,000 people receive #wildfires evacuation or...   \n",
       "4  Just got sent this photo from Ruby #Alaska as ...   \n",
       "\n",
       "                                 text_trigram_simple  \\\n",
       "0  our deeds are the reason of this earthquake ma...   \n",
       "1              forest fire near la ronge sask canada   \n",
       "2  all residents asked to shelter in place are be...   \n",
       "3  13 000 people receive wildfires evacuation ord...   \n",
       "4  just got sent this photo from ruby alaska as s...   \n",
       "\n",
       "                                  text_trigram_spacy  \n",
       "0             deed reason # earthquake allah forgive  \n",
       "1            forest fire near la ronge sask . canada  \n",
       "2  resident ask ' shelter place ' notify officer ...  \n",
       "3  13,000 people receive # wildfire evacuation or...  \n",
       "4  get send photo ruby # alaska smoke # wildfire ...  "
      ]
     },
     "execution_count": 18,
     "metadata": {},
     "output_type": "execute_result"
    }
   ],
   "source": [
    "data.head()"
   ]
  },
  {
   "cell_type": "markdown",
   "metadata": {},
   "source": [
    "Fantastic! We've found all of the trigrams and bigrams in each of our three datasets that occur more than 30 times. This data will prove to be very useful when we reach Word2Vec."
   ]
  },
  {
   "cell_type": "markdown",
   "metadata": {},
   "source": [
    "Now that we've got the three separately preprocessed sets of tweets in neat columns in our dataset, it's time to split our data into training and validation data and begin our testing!"
   ]
  },
  {
   "cell_type": "markdown",
   "metadata": {},
   "source": [
    "### Splitting"
   ]
  },
  {
   "cell_type": "code",
   "execution_count": 19,
   "metadata": {},
   "outputs": [],
   "source": [
    "#collapse\n",
    "from sklearn.model_selection import train_test_split"
   ]
  },
  {
   "cell_type": "markdown",
   "metadata": {},
   "source": [
    "In order to properly test our data, we'll need to split it into training and validation sets. To do this, we simply pass our `data` DataFrame to sklearn's `train_test_split`. We reset the index of each newly-created DataFrame to avoid complications with indexing later on. Then, check the shapes to make everything adds up."
   ]
  },
  {
   "cell_type": "code",
   "execution_count": 20,
   "metadata": {},
   "outputs": [
    {
     "data": {
      "text/plain": [
       "((5709, 11), (1904, 11), (7613, 10))"
      ]
     },
     "execution_count": 20,
     "metadata": {},
     "output_type": "execute_result"
    }
   ],
   "source": [
    "train, valid = train_test_split(data, random_state=24)\n",
    "\n",
    "train = train.reset_index()\n",
    "valid = valid.reset_index()\n",
    "\n",
    "train.shape, valid.shape, data.shape"
   ]
  },
  {
   "cell_type": "markdown",
   "metadata": {},
   "source": [
    "Things are looking good! One last preprocessing step is in order, and that is dividing our newly-created `train` data by their target labels, thereby giving us two new DataFrames representing disaster tweets and non-disaster tweets.\n",
    "\n",
    "When we call `.nunique()` on both `disasters` and `not_disasters`, we can see that the unique number of `target`s in each DataFrame is 1, indicating we split the data properly."
   ]
  },
  {
   "cell_type": "code",
   "execution_count": 21,
   "metadata": {},
   "outputs": [
    {
     "data": {
      "text/plain": [
       "(level_0                2450\n",
       " index                  2450\n",
       " id                     2450\n",
       " keyword                 220\n",
       " location               1197\n",
       " text                   2418\n",
       " target                    1\n",
       " text_simple            2130\n",
       " text_spacy             2417\n",
       " text_trigram           2417\n",
       " text_trigram_simple    2130\n",
       " text_trigram_spacy     2416\n",
       " dtype: int64,\n",
       " level_0                3259\n",
       " index                  3259\n",
       " id                     3259\n",
       " keyword                 216\n",
       " location               1668\n",
       " text                   3239\n",
       " target                    1\n",
       " text_simple            3069\n",
       " text_spacy             3237\n",
       " text_trigram           3239\n",
       " text_trigram_simple    3069\n",
       " text_trigram_spacy     3237\n",
       " dtype: int64)"
      ]
     },
     "execution_count": 21,
     "metadata": {},
     "output_type": "execute_result"
    }
   ],
   "source": [
    "disasters = train[train['target'] == 1].reset_index()\n",
    "not_disasters = train[train['target'] == 0].reset_index()\n",
    "\n",
    "disasters.nunique(), not_disasters.nunique()"
   ]
  },
  {
   "cell_type": "markdown",
   "metadata": {},
   "source": [
    "Awesome! We're all set and we can begin to train our models.\n",
    "\n",
    "Let's start with TF-IDF."
   ]
  },
  {
   "cell_type": "markdown",
   "metadata": {},
   "source": [
    "## TF-IDF"
   ]
  },
  {
   "cell_type": "code",
   "execution_count": 22,
   "metadata": {},
   "outputs": [],
   "source": [
    "#collapse\n",
    "from collections import defaultdict\n",
    "from gensim.corpora import Dictionary\n",
    "from gensim.models import TfidfModel\n",
    "from gensim.similarities import MatrixSimilarity\n",
    "import numpy as np\n",
    "from sklearn.metrics import accuracy_score, f1_score"
   ]
  },
  {
   "cell_type": "markdown",
   "metadata": {},
   "source": [
    "TF-IDF is an incredible, straightforward way to analyze document similarity. It involves no fancy machine learning, just the term frequency across documents! For this reason, we will begin with trying to use TF-IDF to determine if a tweet is about a disaster or not.\n",
    "\n",
    "From [tfidf.com](http://www.tfidf.com/):\n",
    "> Tf-idf stands for *term frequency-inverse document frequency*, and the tf-idf weight is a weight often used in information retrieval and text mining. This weight is a statistical measure used to evaluate how important a word is to a document in a collection or corpus. The importance increases proportionally to the number of times a word appears in the document but is offset by the frequency of the word in the corpus.\n",
    "\n",
    "You can learn more about the mathematical foundations of TF-IDF [here](https://rare-technologies.com/pivoted-document-length-normalisation/).\n",
    "\n",
    "We'll start by analyzing the unprocessed tweets."
   ]
  },
  {
   "cell_type": "markdown",
   "metadata": {},
   "source": [
    "### TF-IDF with Unprocessed Tweets"
   ]
  },
  {
   "cell_type": "markdown",
   "metadata": {},
   "source": [
    "In order to calculate the similarity between two tweets (namely, a tweet in the validation set with a tweet in the training set) without having to do all the math out ourselves, we'll use [gensim](https://radimrehurek.com/gensim/), a free Python library that provides a lot of great NLP functionality.\n",
    "\n",
    "Gensim requires a list of *texts* in a list of *documents*. For us, that's a list of *words in a tweet* in a list of *tweets*. So let's make that now.\n",
    "\n",
    "> Note: We're using the unprocessed tweets in the `text` column of our data this time around. We'll be using the other two preprocessed tweets in a bit!"
   ]
  },
  {
   "cell_type": "code",
   "execution_count": 23,
   "metadata": {},
   "outputs": [],
   "source": [
    "disaster_tweets = disasters['text'].tolist()\n",
    "not_disaster_tweets = not_disasters['text'].tolist()\n",
    "\n",
    "disaster_tweets_split = [\n",
    "    [word for word in tweet.split()]\n",
    "    for tweet in disaster_tweets\n",
    "]\n",
    "not_disaster_tweets_split = [\n",
    "    [word for word in tweet.split()]\n",
    "    for tweet in not_disaster_tweets\n",
    "]"
   ]
  },
  {
   "cell_type": "markdown",
   "metadata": {},
   "source": [
    "Thinking about a TF-IDF model, words that only occur once throughout the entire corpus will not provide any noteworthy advantage to the model. Therefore, in the next step, we remove words that only occur once from `disaster_tweets_split` and `not_disaster_tweets` split."
   ]
  },
  {
   "cell_type": "code",
   "execution_count": 24,
   "metadata": {},
   "outputs": [],
   "source": [
    "disaster_tweets_word_frequency = defaultdict(int)\n",
    "for tweet in disaster_tweets_split:\n",
    "    for word in tweet:\n",
    "        disaster_tweets_word_frequency[word] += 1\n",
    "        \n",
    "not_disaster_tweets_word_frequency = defaultdict(int)\n",
    "for tweet in not_disaster_tweets_split:\n",
    "    for word in tweet:\n",
    "        not_disaster_tweets_word_frequency[word] += 1\n",
    "\n",
    "disaster_tweets_split = [\n",
    "    [word for word in tweet if disaster_tweets_word_frequency[word] > 1]\n",
    "    for tweet in disaster_tweets_split\n",
    "]\n",
    "\n",
    "not_disaster_tweets_split = [\n",
    "    [word for word in tweet if not_disaster_tweets_word_frequency[word] > 1]\n",
    "    for tweet in not_disaster_tweets_split\n",
    "]"
   ]
  },
  {
   "cell_type": "markdown",
   "metadata": {},
   "source": [
    "Next, we create a Dictionary object with gensim, which is a mapping between words and their integer ids. With this Dictionary object we can create a \"corpus\" for disaster tweets and non-disaster tweets by converting each document (i.e., tweet) in each set to a Bag of Words format (that is, a list of `(token_id, token_count)` tuples)."
   ]
  },
  {
   "cell_type": "code",
   "execution_count": 25,
   "metadata": {},
   "outputs": [],
   "source": [
    "disaster_tweets_dct = Dictionary(disaster_tweets_split)\n",
    "not_disaster_tweets_dct = Dictionary(not_disaster_tweets_split)\n",
    "\n",
    "disaster_tweets_corpus = [disaster_tweets_dct.doc2bow(tweet) for tweet in disaster_tweets_split]\n",
    "not_disaster_tweets_corpus = [not_disaster_tweets_dct.doc2bow(tweet) for tweet in not_disaster_tweets_split]"
   ]
  },
  {
   "cell_type": "markdown",
   "metadata": {},
   "source": [
    "Fit TF-IDF models for our two sets of tweets."
   ]
  },
  {
   "cell_type": "code",
   "execution_count": 26,
   "metadata": {},
   "outputs": [],
   "source": [
    "disaster_tweets_tfidf = TfidfModel(disaster_tweets_corpus)\n",
    "not_disaster_tweets_tfidf = TfidfModel(not_disaster_tweets_corpus)"
   ]
  },
  {
   "cell_type": "markdown",
   "metadata": {},
   "source": [
    "Apply the models to our corpora to get vectors for each tweet."
   ]
  },
  {
   "cell_type": "code",
   "execution_count": 27,
   "metadata": {},
   "outputs": [],
   "source": [
    "disaster_tweets_tfidf_vectors = disaster_tweets_tfidf[disaster_tweets_corpus]\n",
    "not_disaster_tweets_tfidf_vectors = not_disaster_tweets_tfidf[not_disaster_tweets_corpus]"
   ]
  },
  {
   "cell_type": "markdown",
   "metadata": {},
   "source": [
    "Create variable which we can index into using another vector to compute similarity."
   ]
  },
  {
   "cell_type": "code",
   "execution_count": 28,
   "metadata": {},
   "outputs": [],
   "source": [
    "disaster_tweets_similarity = MatrixSimilarity(disaster_tweets_tfidf_vectors)\n",
    "not_disaster_tweets_similarity = MatrixSimilarity(not_disaster_tweets_tfidf_vectors)"
   ]
  },
  {
   "cell_type": "markdown",
   "metadata": {},
   "source": [
    "Now we can compare each tweet in the validation set to each set of tweets (disaster and non-disaster) in the training set. Whichever set contains a greater number of \"similar enough\" tweets (to be determined by a threshold) determines how the validation tweet will be labeled.\n",
    "\n",
    "First, configure the validation tweets in the same way that we did for the training tweets:"
   ]
  },
  {
   "cell_type": "code",
   "execution_count": 29,
   "metadata": {},
   "outputs": [],
   "source": [
    "valid_tweets = valid['text'].tolist()\n",
    "\n",
    "valid_tweets_split = [\n",
    "    [word for word in tweet.split()]\n",
    "    for tweet in valid_tweets\n",
    "]\n",
    "\n",
    "valid_tweets_word_frequency = defaultdict(int)\n",
    "for tweet in valid_tweets_split:\n",
    "    for word in tweet:\n",
    "        valid_tweets_word_frequency[word] += 1\n",
    "    \n",
    "valid_tweets_split = [\n",
    "    [word for word in tweet if valid_tweets_word_frequency[word] > 1]\n",
    "    for tweet in valid_tweets_split\n",
    "]"
   ]
  },
  {
   "cell_type": "markdown",
   "metadata": {},
   "source": [
    "We now have all the information we need to make our predictions! We can store our predictions in the `valid` DataFrame. This will make for easier access when comparing target to prediction.\n",
    "\n",
    "To do that, we need to initialize a new column in the DataFrame, let's call it `prediction`:"
   ]
  },
  {
   "cell_type": "code",
   "execution_count": 30,
   "metadata": {},
   "outputs": [],
   "source": [
    "valid['prediction'] = np.zeros(len(valid)).astype('int')"
   ]
  },
  {
   "cell_type": "markdown",
   "metadata": {},
   "source": [
    "In order to make predictions using the model we just created, we have to compare each tweet in the validation data with each tweet in both the `disasters` DataFrame and the `not_disasters` DataFrame.\n",
    "\n",
    "Therefore, for each tweet, we:\n",
    "1. Turn it into a BoW according to each set of tweets' Dictionary object.\n",
    "2. Get a vector for it using each set's TF-IDF model.\n",
    "3. Compare it's vector with each set's full set of tweets using the MatrixSimilarity object we created earleir.\n",
    "4. Tally up the total number of disaster and non-disaster tweets whose cosine similarity is greater than 0.1.\n",
    "5. If the disaster tally is greater than the non-disaster tally, we change the value of the prediction column for this tweet in the `valid` DataFrame to 1 (otherwise, it stays 0, indicating a non-disastrous guess).\n",
    "\n",
    "This is exemplefied below:"
   ]
  },
  {
   "cell_type": "code",
   "execution_count": 31,
   "metadata": {},
   "outputs": [],
   "source": [
    "for row in range(len(valid)):\n",
    "    tweet = valid_tweets_split[row]\n",
    "    \n",
    "    tweet_bow_with_disasters_dct = disaster_tweets_dct.doc2bow(tweet)\n",
    "    tweet_bow_with_not_disasters_dct = not_disaster_tweets_dct.doc2bow(tweet)\n",
    "    \n",
    "    tweet_tfidf_vector_with_disasters_tfidf = disaster_tweets_tfidf[tweet_bow_with_disasters_dct]\n",
    "    tweet_tfidf_vector_with_not_disasters_tfidf = not_disaster_tweets_tfidf[tweet_bow_with_not_disasters_dct]\n",
    "    \n",
    "    disaster_similarity_vector = disaster_tweets_similarity[tweet_tfidf_vector_with_disasters_tfidf]\n",
    "    not_disaster_similarity_vector = not_disaster_tweets_similarity[tweet_tfidf_vector_with_not_disasters_tfidf]\n",
    "    \n",
    "    disaster_tally = np.where(disaster_similarity_vector > 0.1)[0].size # np.where() returns a tuple, so we have to index into [0] to get what we want\n",
    "    not_disaster_tally = np.where(not_disaster_similarity_vector > 0.1)[0].size\n",
    "    \n",
    "    if disaster_tally > not_disaster_tally:\n",
    "        valid.loc[row, 'prediction'] = 1"
   ]
  },
  {
   "cell_type": "markdown",
   "metadata": {},
   "source": [
    "If all went well, we should be able to see our predictions in the `valid` DataFrame..."
   ]
  },
  {
   "cell_type": "code",
   "execution_count": 32,
   "metadata": {},
   "outputs": [
    {
     "data": {
      "text/html": [
       "<div>\n",
       "<style scoped>\n",
       "    .dataframe tbody tr th:only-of-type {\n",
       "        vertical-align: middle;\n",
       "    }\n",
       "\n",
       "    .dataframe tbody tr th {\n",
       "        vertical-align: top;\n",
       "    }\n",
       "\n",
       "    .dataframe thead th {\n",
       "        text-align: right;\n",
       "    }\n",
       "</style>\n",
       "<table border=\"1\" class=\"dataframe\">\n",
       "  <thead>\n",
       "    <tr style=\"text-align: right;\">\n",
       "      <th></th>\n",
       "      <th>index</th>\n",
       "      <th>id</th>\n",
       "      <th>keyword</th>\n",
       "      <th>location</th>\n",
       "      <th>text</th>\n",
       "      <th>target</th>\n",
       "      <th>text_simple</th>\n",
       "      <th>text_spacy</th>\n",
       "      <th>text_trigram</th>\n",
       "      <th>text_trigram_simple</th>\n",
       "      <th>text_trigram_spacy</th>\n",
       "      <th>prediction</th>\n",
       "    </tr>\n",
       "  </thead>\n",
       "  <tbody>\n",
       "    <tr>\n",
       "      <th>0</th>\n",
       "      <td>3068</td>\n",
       "      <td>4402</td>\n",
       "      <td>electrocute</td>\n",
       "      <td>NaN</td>\n",
       "      <td>Kids got Disney version of the game Operation ...</td>\n",
       "      <td>0</td>\n",
       "      <td>kids got disney version of the game operation ...</td>\n",
       "      <td>kid get disney version game operation 2 aa bat...</td>\n",
       "      <td>Kids got Disney version of the game Operation ...</td>\n",
       "      <td>kids got disney version of the game operation ...</td>\n",
       "      <td>kid get disney version game operation 2 aa bat...</td>\n",
       "      <td>1</td>\n",
       "    </tr>\n",
       "    <tr>\n",
       "      <th>1</th>\n",
       "      <td>3148</td>\n",
       "      <td>4522</td>\n",
       "      <td>emergency</td>\n",
       "      <td>Indianapolis, IN</td>\n",
       "      <td>UPDATE: Indiana State Police reopening I-65 ne...</td>\n",
       "      <td>1</td>\n",
       "      <td>update indiana state police reopening i 65 nea...</td>\n",
       "      <td>update : indiana state police reopen i-65 near...</td>\n",
       "      <td>UPDATE: Indiana State Police reopening I-65 ne...</td>\n",
       "      <td>update indiana state police reopening i 65 nea...</td>\n",
       "      <td>update : indiana state police reopen i-65 near...</td>\n",
       "      <td>1</td>\n",
       "    </tr>\n",
       "    <tr>\n",
       "      <th>2</th>\n",
       "      <td>3139</td>\n",
       "      <td>4511</td>\n",
       "      <td>emergency</td>\n",
       "      <td>Phoenix</td>\n",
       "      <td>God forbid anyone in my family knows how to an...</td>\n",
       "      <td>0</td>\n",
       "      <td>god forbid anyone in my family knows how to an...</td>\n",
       "      <td>god forbid family know answer phone . need new...</td>\n",
       "      <td>God forbid anyone in my family knows how to an...</td>\n",
       "      <td>god forbid anyone in my family knows how to an...</td>\n",
       "      <td>god forbid family know answer phone . need new...</td>\n",
       "      <td>0</td>\n",
       "    </tr>\n",
       "    <tr>\n",
       "      <th>3</th>\n",
       "      <td>7485</td>\n",
       "      <td>10707</td>\n",
       "      <td>wreck</td>\n",
       "      <td>Alabama, USA</td>\n",
       "      <td>First wreck today. So so glad me and mom are o...</td>\n",
       "      <td>0</td>\n",
       "      <td>first wreck today so so glad me and mom are ok...</td>\n",
       "      <td>wreck today . glad mom okay . lot bad . happy ...</td>\n",
       "      <td>First wreck today. So so glad me and mom are o...</td>\n",
       "      <td>first wreck today so so glad me and mom are ok...</td>\n",
       "      <td>wreck today . glad mom okay . lot bad . happy ...</td>\n",
       "      <td>0</td>\n",
       "    </tr>\n",
       "    <tr>\n",
       "      <th>4</th>\n",
       "      <td>6023</td>\n",
       "      <td>8608</td>\n",
       "      <td>seismic</td>\n",
       "      <td>Somalia</td>\n",
       "      <td>Exploration takes seismic shift in Gabon to So...</td>\n",
       "      <td>0</td>\n",
       "      <td>exploration takes seismic shift in gabon to so...</td>\n",
       "      <td>exploration take seismic shift gabon somalia -...</td>\n",
       "      <td>Exploration takes seismic shift in Gabon to So...</td>\n",
       "      <td>exploration takes seismic shift in gabon to so...</td>\n",
       "      <td>exploration take seismic shift gabon somalia -...</td>\n",
       "      <td>0</td>\n",
       "    </tr>\n",
       "  </tbody>\n",
       "</table>\n",
       "</div>"
      ],
      "text/plain": [
       "   index     id      keyword          location  \\\n",
       "0   3068   4402  electrocute               NaN   \n",
       "1   3148   4522    emergency  Indianapolis, IN   \n",
       "2   3139   4511    emergency           Phoenix   \n",
       "3   7485  10707        wreck      Alabama, USA   \n",
       "4   6023   8608      seismic           Somalia   \n",
       "\n",
       "                                                text  target  \\\n",
       "0  Kids got Disney version of the game Operation ...       0   \n",
       "1  UPDATE: Indiana State Police reopening I-65 ne...       1   \n",
       "2  God forbid anyone in my family knows how to an...       0   \n",
       "3  First wreck today. So so glad me and mom are o...       0   \n",
       "4  Exploration takes seismic shift in Gabon to So...       0   \n",
       "\n",
       "                                         text_simple  \\\n",
       "0  kids got disney version of the game operation ...   \n",
       "1  update indiana state police reopening i 65 nea...   \n",
       "2  god forbid anyone in my family knows how to an...   \n",
       "3  first wreck today so so glad me and mom are ok...   \n",
       "4  exploration takes seismic shift in gabon to so...   \n",
       "\n",
       "                                          text_spacy  \\\n",
       "0  kid get disney version game operation 2 aa bat...   \n",
       "1  update : indiana state police reopen i-65 near...   \n",
       "2  god forbid family know answer phone . need new...   \n",
       "3  wreck today . glad mom okay . lot bad . happy ...   \n",
       "4  exploration take seismic shift gabon somalia -...   \n",
       "\n",
       "                                        text_trigram  \\\n",
       "0  Kids got Disney version of the game Operation ...   \n",
       "1  UPDATE: Indiana State Police reopening I-65 ne...   \n",
       "2  God forbid anyone in my family knows how to an...   \n",
       "3  First wreck today. So so glad me and mom are o...   \n",
       "4  Exploration takes seismic shift in Gabon to So...   \n",
       "\n",
       "                                 text_trigram_simple  \\\n",
       "0  kids got disney version of the game operation ...   \n",
       "1  update indiana state police reopening i 65 nea...   \n",
       "2  god forbid anyone in my family knows how to an...   \n",
       "3  first wreck today so so glad me and mom are ok...   \n",
       "4  exploration takes seismic shift in gabon to so...   \n",
       "\n",
       "                                  text_trigram_spacy  prediction  \n",
       "0  kid get disney version game operation 2 aa bat...           1  \n",
       "1  update : indiana state police reopen i-65 near...           1  \n",
       "2  god forbid family know answer phone . need new...           0  \n",
       "3  wreck today . glad mom okay . lot bad . happy ...           0  \n",
       "4  exploration take seismic shift gabon somalia -...           0  "
      ]
     },
     "execution_count": 32,
     "metadata": {},
     "output_type": "execute_result"
    }
   ],
   "source": [
    "valid.head()"
   ]
  },
  {
   "cell_type": "markdown",
   "metadata": {},
   "source": [
    "Look at that! Seems we've made some predictions! But how well did we do?\n",
    "\n",
    "Let's take a look at both the accuracy and F1 score:"
   ]
  },
  {
   "cell_type": "code",
   "execution_count": 33,
   "metadata": {},
   "outputs": [
    {
     "data": {
      "text/plain": [
       "(0.6407563025210085, 0.5302197802197802)"
      ]
     },
     "execution_count": 33,
     "metadata": {},
     "output_type": "execute_result"
    }
   ],
   "source": [
    "accuracy = accuracy_score(valid['target'], valid['prediction'])\n",
    "F1 = f1_score(valid['target'], valid['prediction'])\n",
    "accuracy, F1"
   ]
  },
  {
   "cell_type": "markdown",
   "metadata": {},
   "source": [
    "`64.08%` accuracy! That's not too shabby for just looking at word frequencies...\n",
    "\n",
    "But what happens if we calculate tweet similarities using TF-IDF again, but this time using the preprocessed data that we prepared in the last section?\n",
    "\n",
    "Let's start by seeing how our scores improve with the \"simply\" cleaned tweets."
   ]
  },
  {
   "cell_type": "markdown",
   "metadata": {},
   "source": [
    "### TF-IDF with \"Simple\" Tweets"
   ]
  },
  {
   "cell_type": "markdown",
   "metadata": {},
   "source": [
    "Before we go any further, we'll need to get rid of the predictions we just made in `valid`."
   ]
  },
  {
   "cell_type": "code",
   "execution_count": 34,
   "metadata": {},
   "outputs": [
    {
     "data": {
      "text/html": [
       "<div>\n",
       "<style scoped>\n",
       "    .dataframe tbody tr th:only-of-type {\n",
       "        vertical-align: middle;\n",
       "    }\n",
       "\n",
       "    .dataframe tbody tr th {\n",
       "        vertical-align: top;\n",
       "    }\n",
       "\n",
       "    .dataframe thead th {\n",
       "        text-align: right;\n",
       "    }\n",
       "</style>\n",
       "<table border=\"1\" class=\"dataframe\">\n",
       "  <thead>\n",
       "    <tr style=\"text-align: right;\">\n",
       "      <th></th>\n",
       "      <th>index</th>\n",
       "      <th>id</th>\n",
       "      <th>keyword</th>\n",
       "      <th>location</th>\n",
       "      <th>text</th>\n",
       "      <th>target</th>\n",
       "      <th>text_simple</th>\n",
       "      <th>text_spacy</th>\n",
       "      <th>text_trigram</th>\n",
       "      <th>text_trigram_simple</th>\n",
       "      <th>text_trigram_spacy</th>\n",
       "    </tr>\n",
       "  </thead>\n",
       "  <tbody>\n",
       "    <tr>\n",
       "      <th>0</th>\n",
       "      <td>3068</td>\n",
       "      <td>4402</td>\n",
       "      <td>electrocute</td>\n",
       "      <td>NaN</td>\n",
       "      <td>Kids got Disney version of the game Operation ...</td>\n",
       "      <td>0</td>\n",
       "      <td>kids got disney version of the game operation ...</td>\n",
       "      <td>kid get disney version game operation 2 aa bat...</td>\n",
       "      <td>Kids got Disney version of the game Operation ...</td>\n",
       "      <td>kids got disney version of the game operation ...</td>\n",
       "      <td>kid get disney version game operation 2 aa bat...</td>\n",
       "    </tr>\n",
       "    <tr>\n",
       "      <th>1</th>\n",
       "      <td>3148</td>\n",
       "      <td>4522</td>\n",
       "      <td>emergency</td>\n",
       "      <td>Indianapolis, IN</td>\n",
       "      <td>UPDATE: Indiana State Police reopening I-65 ne...</td>\n",
       "      <td>1</td>\n",
       "      <td>update indiana state police reopening i 65 nea...</td>\n",
       "      <td>update : indiana state police reopen i-65 near...</td>\n",
       "      <td>UPDATE: Indiana State Police reopening I-65 ne...</td>\n",
       "      <td>update indiana state police reopening i 65 nea...</td>\n",
       "      <td>update : indiana state police reopen i-65 near...</td>\n",
       "    </tr>\n",
       "    <tr>\n",
       "      <th>2</th>\n",
       "      <td>3139</td>\n",
       "      <td>4511</td>\n",
       "      <td>emergency</td>\n",
       "      <td>Phoenix</td>\n",
       "      <td>God forbid anyone in my family knows how to an...</td>\n",
       "      <td>0</td>\n",
       "      <td>god forbid anyone in my family knows how to an...</td>\n",
       "      <td>god forbid family know answer phone . need new...</td>\n",
       "      <td>God forbid anyone in my family knows how to an...</td>\n",
       "      <td>god forbid anyone in my family knows how to an...</td>\n",
       "      <td>god forbid family know answer phone . need new...</td>\n",
       "    </tr>\n",
       "    <tr>\n",
       "      <th>3</th>\n",
       "      <td>7485</td>\n",
       "      <td>10707</td>\n",
       "      <td>wreck</td>\n",
       "      <td>Alabama, USA</td>\n",
       "      <td>First wreck today. So so glad me and mom are o...</td>\n",
       "      <td>0</td>\n",
       "      <td>first wreck today so so glad me and mom are ok...</td>\n",
       "      <td>wreck today . glad mom okay . lot bad . happy ...</td>\n",
       "      <td>First wreck today. So so glad me and mom are o...</td>\n",
       "      <td>first wreck today so so glad me and mom are ok...</td>\n",
       "      <td>wreck today . glad mom okay . lot bad . happy ...</td>\n",
       "    </tr>\n",
       "    <tr>\n",
       "      <th>4</th>\n",
       "      <td>6023</td>\n",
       "      <td>8608</td>\n",
       "      <td>seismic</td>\n",
       "      <td>Somalia</td>\n",
       "      <td>Exploration takes seismic shift in Gabon to So...</td>\n",
       "      <td>0</td>\n",
       "      <td>exploration takes seismic shift in gabon to so...</td>\n",
       "      <td>exploration take seismic shift gabon somalia -...</td>\n",
       "      <td>Exploration takes seismic shift in Gabon to So...</td>\n",
       "      <td>exploration takes seismic shift in gabon to so...</td>\n",
       "      <td>exploration take seismic shift gabon somalia -...</td>\n",
       "    </tr>\n",
       "  </tbody>\n",
       "</table>\n",
       "</div>"
      ],
      "text/plain": [
       "   index     id      keyword          location  \\\n",
       "0   3068   4402  electrocute               NaN   \n",
       "1   3148   4522    emergency  Indianapolis, IN   \n",
       "2   3139   4511    emergency           Phoenix   \n",
       "3   7485  10707        wreck      Alabama, USA   \n",
       "4   6023   8608      seismic           Somalia   \n",
       "\n",
       "                                                text  target  \\\n",
       "0  Kids got Disney version of the game Operation ...       0   \n",
       "1  UPDATE: Indiana State Police reopening I-65 ne...       1   \n",
       "2  God forbid anyone in my family knows how to an...       0   \n",
       "3  First wreck today. So so glad me and mom are o...       0   \n",
       "4  Exploration takes seismic shift in Gabon to So...       0   \n",
       "\n",
       "                                         text_simple  \\\n",
       "0  kids got disney version of the game operation ...   \n",
       "1  update indiana state police reopening i 65 nea...   \n",
       "2  god forbid anyone in my family knows how to an...   \n",
       "3  first wreck today so so glad me and mom are ok...   \n",
       "4  exploration takes seismic shift in gabon to so...   \n",
       "\n",
       "                                          text_spacy  \\\n",
       "0  kid get disney version game operation 2 aa bat...   \n",
       "1  update : indiana state police reopen i-65 near...   \n",
       "2  god forbid family know answer phone . need new...   \n",
       "3  wreck today . glad mom okay . lot bad . happy ...   \n",
       "4  exploration take seismic shift gabon somalia -...   \n",
       "\n",
       "                                        text_trigram  \\\n",
       "0  Kids got Disney version of the game Operation ...   \n",
       "1  UPDATE: Indiana State Police reopening I-65 ne...   \n",
       "2  God forbid anyone in my family knows how to an...   \n",
       "3  First wreck today. So so glad me and mom are o...   \n",
       "4  Exploration takes seismic shift in Gabon to So...   \n",
       "\n",
       "                                 text_trigram_simple  \\\n",
       "0  kids got disney version of the game operation ...   \n",
       "1  update indiana state police reopening i 65 nea...   \n",
       "2  god forbid anyone in my family knows how to an...   \n",
       "3  first wreck today so so glad me and mom are ok...   \n",
       "4  exploration takes seismic shift in gabon to so...   \n",
       "\n",
       "                                  text_trigram_spacy  \n",
       "0  kid get disney version game operation 2 aa bat...  \n",
       "1  update : indiana state police reopen i-65 near...  \n",
       "2  god forbid family know answer phone . need new...  \n",
       "3  wreck today . glad mom okay . lot bad . happy ...  \n",
       "4  exploration take seismic shift gabon somalia -...  "
      ]
     },
     "execution_count": 34,
     "metadata": {},
     "output_type": "execute_result"
    }
   ],
   "source": [
    "valid = valid.drop(columns=['prediction'])\n",
    "valid.head()"
   ]
  },
  {
   "cell_type": "markdown",
   "metadata": {},
   "source": [
    "The process this time around will, in fact, be exactly the same as last time! The only change we need to make is that we are indexing into the `text_simple` column in the `disaster_tweets` and `not_disaster_tweets` DataFrames.\n",
    "\n",
    "Since the procedure is the same, let's skip to the metrics! (You can still expand the code below if you need a closer look.)"
   ]
  },
  {
   "cell_type": "code",
   "execution_count": 35,
   "metadata": {},
   "outputs": [],
   "source": [
    "#collapse\n",
    "disaster_tweets = disasters['text_simple'].tolist()\n",
    "not_disaster_tweets = not_disasters['text_simple'].tolist()\n",
    "\n",
    "disaster_tweets_split = [\n",
    "    [word for word in tweet.split()]\n",
    "    for tweet in disaster_tweets\n",
    "]\n",
    "not_disaster_tweets_split = [\n",
    "    [word for word in tweet.split()]\n",
    "    for tweet in not_disaster_tweets\n",
    "]\n",
    "\n",
    "disaster_tweets_word_frequency = defaultdict(int)\n",
    "for tweet in disaster_tweets_split:\n",
    "    for word in tweet:\n",
    "        disaster_tweets_word_frequency[word] += 1\n",
    "        \n",
    "not_disaster_tweets_word_frequency = defaultdict(int)\n",
    "for tweet in not_disaster_tweets_split:\n",
    "    for word in tweet:\n",
    "        not_disaster_tweets_word_frequency[word] += 1\n",
    "\n",
    "disaster_tweets_split = [\n",
    "    [word for word in tweet if disaster_tweets_word_frequency[word] > 1]\n",
    "    for tweet in disaster_tweets_split\n",
    "]\n",
    "\n",
    "not_disaster_tweets_split = [\n",
    "    [word for word in tweet if not_disaster_tweets_word_frequency[word] > 1]\n",
    "    for tweet in not_disaster_tweets_split\n",
    "]\n",
    "\n",
    "disaster_tweets_dct = Dictionary(disaster_tweets_split)\n",
    "not_disaster_tweets_dct = Dictionary(not_disaster_tweets_split)\n",
    "\n",
    "disaster_tweets_corpus = [disaster_tweets_dct.doc2bow(tweet) for tweet in disaster_tweets_split]\n",
    "not_disaster_tweets_corpus = [not_disaster_tweets_dct.doc2bow(tweet) for tweet in not_disaster_tweets_split]\n",
    "\n",
    "disaster_tweets_tfidf = TfidfModel(disaster_tweets_corpus)\n",
    "not_disaster_tweets_tfidf = TfidfModel(not_disaster_tweets_corpus)\n",
    "\n",
    "disaster_tweets_tfidf_vectors = disaster_tweets_tfidf[disaster_tweets_corpus]\n",
    "not_disaster_tweets_tfidf_vectors = not_disaster_tweets_tfidf[not_disaster_tweets_corpus]\n",
    "\n",
    "disaster_tweets_similarity = MatrixSimilarity(disaster_tweets_tfidf_vectors)\n",
    "not_disaster_tweets_similarity = MatrixSimilarity(not_disaster_tweets_tfidf_vectors)\n",
    "\n",
    "valid_tweets = valid['text_simple'].tolist()\n",
    "\n",
    "valid_tweets_split = [\n",
    "    [word for word in tweet.split()]\n",
    "    for tweet in valid_tweets\n",
    "]\n",
    "\n",
    "valid_tweets_word_frequency = defaultdict(int)\n",
    "for tweet in valid_tweets_split:\n",
    "    for word in tweet:\n",
    "        valid_tweets_word_frequency[word] += 1\n",
    "    \n",
    "valid_tweets_split = [\n",
    "    [word for word in tweet if valid_tweets_word_frequency[word] > 1]\n",
    "    for tweet in valid_tweets_split\n",
    "]\n",
    "\n",
    "valid['prediction'] = np.zeros(len(valid)).astype('int')\n",
    "\n",
    "for row in range(len(valid)):\n",
    "    tweet = valid_tweets_split[row]\n",
    "    \n",
    "    tweet_bow_with_disasters_dct = disaster_tweets_dct.doc2bow(tweet)\n",
    "    tweet_bow_with_not_disasters_dct = not_disaster_tweets_dct.doc2bow(tweet)\n",
    "    \n",
    "    tweet_tfidf_vector_with_disasters_tfidf = disaster_tweets_tfidf[tweet_bow_with_disasters_dct]\n",
    "    tweet_tfidf_vector_with_not_disasters_tfidf = not_disaster_tweets_tfidf[tweet_bow_with_not_disasters_dct]\n",
    "    \n",
    "    disaster_similarity_vector = disaster_tweets_similarity[tweet_tfidf_vector_with_disasters_tfidf]\n",
    "    not_disaster_similarity_vector = not_disaster_tweets_similarity[tweet_tfidf_vector_with_not_disasters_tfidf]\n",
    "    \n",
    "    disaster_tally = np.where(disaster_similarity_vector > 0.1)[0].size # np.where() returns a tuple, so we have to index into [0] to get what we want\n",
    "    not_disaster_tally = np.where(not_disaster_similarity_vector > 0.1)[0].size\n",
    "    \n",
    "    if disaster_tally > not_disaster_tally:\n",
    "        valid.loc[row, 'prediction'] = 1"
   ]
  },
  {
   "cell_type": "code",
   "execution_count": 36,
   "metadata": {},
   "outputs": [
    {
     "data": {
      "text/plain": [
       "(0.6659663865546218, 0.5702702702702702)"
      ]
     },
     "execution_count": 36,
     "metadata": {},
     "output_type": "execute_result"
    }
   ],
   "source": [
    "accuracy = accuracy_score(valid['target'], valid['prediction'])\n",
    "F1 = f1_score(valid['target'], valid['prediction'])\n",
    "accuracy, F1"
   ]
  },
  {
   "cell_type": "markdown",
   "metadata": {},
   "source": [
    "`66.60%` accuracy; we've gotten better! Notice that our F1 score has gone up also, from `0.53` to `0.57`.\n",
    "\n",
    "For the last of the TF-IDF similarities, let's see how things go if we use the tweets that were preprocessed with SpaCy:"
   ]
  },
  {
   "cell_type": "markdown",
   "metadata": {},
   "source": [
    "### TF-IDF with SpaCy Tweets"
   ]
  },
  {
   "cell_type": "markdown",
   "metadata": {},
   "source": [
    "Same process as before, let's clear the old predictions from `valid` and skip to the metrics!"
   ]
  },
  {
   "cell_type": "code",
   "execution_count": 37,
   "metadata": {},
   "outputs": [],
   "source": [
    "valid = valid.drop(columns=['prediction'])"
   ]
  },
  {
   "cell_type": "code",
   "execution_count": 38,
   "metadata": {},
   "outputs": [],
   "source": [
    "#collapse\n",
    "disaster_tweets = disasters['text_spacy'].tolist()\n",
    "not_disaster_tweets = not_disasters['text_spacy'].tolist()\n",
    "\n",
    "disaster_tweets_split = [\n",
    "    [word for word in tweet.split()]\n",
    "    for tweet in disaster_tweets\n",
    "]\n",
    "not_disaster_tweets_split = [\n",
    "    [word for word in tweet.split()]\n",
    "    for tweet in not_disaster_tweets\n",
    "]\n",
    "\n",
    "disaster_tweets_word_frequency = defaultdict(int)\n",
    "for tweet in disaster_tweets_split:\n",
    "    for word in tweet:\n",
    "        disaster_tweets_word_frequency[word] += 1\n",
    "        \n",
    "not_disaster_tweets_word_frequency = defaultdict(int)\n",
    "for tweet in not_disaster_tweets_split:\n",
    "    for word in tweet:\n",
    "        not_disaster_tweets_word_frequency[word] += 1\n",
    "\n",
    "disaster_tweets_split = [\n",
    "    [word for word in tweet if disaster_tweets_word_frequency[word] > 1]\n",
    "    for tweet in disaster_tweets_split\n",
    "]\n",
    "\n",
    "not_disaster_tweets_split = [\n",
    "    [word for word in tweet if not_disaster_tweets_word_frequency[word] > 1]\n",
    "    for tweet in not_disaster_tweets_split\n",
    "]\n",
    "\n",
    "disaster_tweets_dct = Dictionary(disaster_tweets_split)\n",
    "not_disaster_tweets_dct = Dictionary(not_disaster_tweets_split)\n",
    "\n",
    "disaster_tweets_corpus = [disaster_tweets_dct.doc2bow(tweet) for tweet in disaster_tweets_split]\n",
    "not_disaster_tweets_corpus = [not_disaster_tweets_dct.doc2bow(tweet) for tweet in not_disaster_tweets_split]\n",
    "\n",
    "disaster_tweets_tfidf = TfidfModel(disaster_tweets_corpus)\n",
    "not_disaster_tweets_tfidf = TfidfModel(not_disaster_tweets_corpus)\n",
    "\n",
    "disaster_tweets_tfidf_vectors = disaster_tweets_tfidf[disaster_tweets_corpus]\n",
    "not_disaster_tweets_tfidf_vectors = not_disaster_tweets_tfidf[not_disaster_tweets_corpus]\n",
    "\n",
    "disaster_tweets_similarity = MatrixSimilarity(disaster_tweets_tfidf_vectors)\n",
    "not_disaster_tweets_similarity = MatrixSimilarity(not_disaster_tweets_tfidf_vectors)\n",
    "\n",
    "valid_tweets = valid['text_spacy'].tolist()\n",
    "\n",
    "valid_tweets_split = [\n",
    "    [word for word in tweet.split()]\n",
    "    for tweet in valid_tweets\n",
    "]\n",
    "\n",
    "valid_tweets_word_frequency = defaultdict(int)\n",
    "for tweet in valid_tweets_split:\n",
    "    for word in tweet:\n",
    "        valid_tweets_word_frequency[word] += 1\n",
    "    \n",
    "valid_tweets_split = [\n",
    "    [word for word in tweet if valid_tweets_word_frequency[word] > 1]\n",
    "    for tweet in valid_tweets_split\n",
    "]\n",
    "\n",
    "valid['prediction'] = np.zeros(len(valid)).astype('int')\n",
    "\n",
    "for row in range(len(valid)):\n",
    "    tweet = valid_tweets_split[row]\n",
    "    \n",
    "    tweet_bow_with_disasters_dct = disaster_tweets_dct.doc2bow(tweet)\n",
    "    tweet_bow_with_not_disasters_dct = not_disaster_tweets_dct.doc2bow(tweet)\n",
    "    \n",
    "    tweet_tfidf_vector_with_disasters_tfidf = disaster_tweets_tfidf[tweet_bow_with_disasters_dct]\n",
    "    tweet_tfidf_vector_with_not_disasters_tfidf = not_disaster_tweets_tfidf[tweet_bow_with_not_disasters_dct]\n",
    "    \n",
    "    disaster_similarity_vector = disaster_tweets_similarity[tweet_tfidf_vector_with_disasters_tfidf]\n",
    "    not_disaster_similarity_vector = not_disaster_tweets_similarity[tweet_tfidf_vector_with_not_disasters_tfidf]\n",
    "    \n",
    "    disaster_tally = np.where(disaster_similarity_vector > 0.1)[0].size # np.where() returns a tuple, so we have to index into [0] to get what we want\n",
    "    not_disaster_tally = np.where(not_disaster_similarity_vector > 0.1)[0].size\n",
    "    \n",
    "    if disaster_tally > not_disaster_tally:\n",
    "        valid.loc[row, 'prediction'] = 1"
   ]
  },
  {
   "cell_type": "code",
   "execution_count": 39,
   "metadata": {},
   "outputs": [
    {
     "data": {
      "text/plain": [
       "(0.6402310924369747, 0.4891871737509322)"
      ]
     },
     "execution_count": 39,
     "metadata": {},
     "output_type": "execute_result"
    }
   ],
   "source": [
    "accuracy = accuracy_score(valid['target'], valid['prediction'])\n",
    "F1 = f1_score(valid['target'], valid['prediction'])\n",
    "accuracy, F1"
   ]
  },
  {
   "cell_type": "markdown",
   "metadata": {},
   "source": [
    "With SpaCy lemmatization and removal of stop words, we've actually gotten the worst results of the three datasets, with an accuracy of `64.02%` and an F1 score of `0.49`.\n",
    "\n",
    "So it seems of the three preprocessing techniques used in a TF-IDF model, in this case, \"simple\" cleaning worked the best with an accuracy of `66.60` and an F1 score of `0.57`.\n",
    "\n",
    "Let's now move forward with Word2Vec."
   ]
  },
  {
   "cell_type": "markdown",
   "metadata": {},
   "source": [
    "## Word2Vec"
   ]
  },
  {
   "cell_type": "code",
   "execution_count": 40,
   "metadata": {},
   "outputs": [],
   "source": [
    "#collapse\n",
    "from gensim.models import Word2Vec\n",
    "from gensim.models.phrases import Phrases, Phraser\n",
    "import time"
   ]
  },
  {
   "cell_type": "markdown",
   "metadata": {},
   "source": [
    "The second method for text classification that we'll use is **word vectors**.\n",
    "\n",
    "Word vectors were first introduced by Mikolov et al.[[1]](https://arxiv.org/pdf/1301.3781.pdf)[[2]](https://arxiv.org/pdf/1310.4546.pdf) and provide highly accurate results in word similarity tasks at relatively low computational cost. You can think of a word vector as a 1-dimensional matrix of numbers of some arbitrary length computed by neural networks. Word similarity is then determined by the [cosine distance](https://en.wikipedia.org/wiki/Cosine_similarity) between two vectors.\n",
    "\n",
    "Word vectors, interestingly, can encode linguistic regularities and patterns. Therefore, many of these patterns can be represented as linear translations. For example `vector(king) - vector(man) + vector(woman)` is going to very close to `vector(queen)`. This is surprising!\n",
    "\n",
    "Let's see how word vectors do at predicting disaster tweets."
   ]
  },
  {
   "cell_type": "markdown",
   "metadata": {},
   "source": [
    "#### Word2Vec Preprocessing"
   ]
  },
  {
   "cell_type": "markdown",
   "metadata": {},
   "source": [
    "We'll be using gensim's Word2Vec module, which processes text using a `min_count` parameter. This parameter only includes words in the input that occur more than the set `min_count` number of times. This will cause problems later on when trying to classify the tweets in the validation set because some of the words will have occurred less than the `min_count` parameter, throwing an \"out-of-vocabulary\" (OOV) error.\n",
    "\n",
    "In order to remedy this, we have two options:\n",
    "1. Train the Word2Vec model and then remove the words from the validation tweets that are not in the trained vocabulary.\n",
    "2. Preemptively change the words in our corpus that occur less than the expected `min_count` number of times with some sort of \"unknown\" character.\n",
    "\n",
    "Both of these methods alter the original tweet that we'll be classifying, but the latter option seems to adhere closer to the original meaning of the tweet. If we drop words, we could make an entirely new sentence with an enitrely new grammatical structure and meaning. Whereas if we replace the words that occur less than `min_count` amount of times with an unknown character, the original grammatical structure of each sentence is held in tact, creating a closer tie to the tweet's original meaning.\n",
    "\n",
    "To do this efficiently, I've created a function `replace_unknowns()` that replaces the words in a text which occur less than a specified `min_count` number of times with `'UNK'`. We can use this to alter the preprocessed columns that we made earlier and store them in our original `data` DataFrame."
   ]
  },
  {
   "cell_type": "code",
   "execution_count": 41,
   "metadata": {},
   "outputs": [],
   "source": [
    "#collapse\n",
    "def replace_unknowns(search_texts, min_count):\n",
    "    \"\"\"\n",
    "    Replaces words that occur less than a certain number of times\n",
    "    in a string or list of strings with 'UNK'.\n",
    "    \n",
    "    Parameters\n",
    "    ----------\n",
    "    search_texts : list\n",
    "        A list of input strings to iterate over.\n",
    "    min_count : int\n",
    "        An integer specify the minimum count a word should occur in\n",
    "        the search_texts to not be replaced with 'UNK'.\n",
    "    \n",
    "    Returns\n",
    "    -------\n",
    "    list\n",
    "        List of search_texts with words that occur less than the min_count\n",
    "        amount of times replaced with 'UNK'.\n",
    "    \n",
    "    \"\"\"\n",
    "    \n",
    "    # Get all tweets lowered and tokenized.\n",
    "    # This makes sense because we'd never want to\n",
    "    # treat an 'a' different from an 'A'.\n",
    "    # (Capitalization is just an orthographical convention)\n",
    "    texts = [\n",
    "        [word for word in re.split('\\s+', text.lower())]\n",
    "        for text in search_texts\n",
    "    ]\n",
    "\n",
    "    # create a dictionary that stores the count of each\n",
    "    # word in our uncleaned tweets. We can insert new words\n",
    "    # into the dict or add to their count if their already in it.\n",
    "    vocab_counts = defaultdict(int)\n",
    "\n",
    "    # Create a list that we can append words that occur more than\n",
    "    # the desired threshold number of times to.\n",
    "    vocab = []\n",
    "\n",
    "    for text in texts:\n",
    "        for word in text:\n",
    "            vocab_counts[word] += 1\n",
    "\n",
    "    # Now go through the vocab_counts and get rid of\n",
    "    # words that occur less than five times.\n",
    "    for word in vocab_counts.keys():\n",
    "        if vocab_counts[word] > min_count:\n",
    "            vocab.append(word)\n",
    "\n",
    "    # Now initialize a new column in data that will hold\n",
    "    # the tweets with 'UNK' replacing words that occur\n",
    "    # across the entire vocabulary less than five times.\n",
    "    # This creates congruency later on in the model.\n",
    "    # data['text_count_5'] = np.empty(len(data), dtype=str) # ***** DO THIS OUTSIDE FUNC IN WORD2VEC SECTION\n",
    "\n",
    "    # Now, go through each tweet and replace the words that\n",
    "    # occur less than 5 times throughout the entire corpus\n",
    "    # with 'UNK'. Then, we insert the new tweet into a new\n",
    "    # column in the original dataframe.\n",
    "\n",
    "    out = []\n",
    "    # this process takes about a minute\n",
    "    for i, text in enumerate(texts):\n",
    "        text_replaced = []\n",
    "        for word in text:\n",
    "            if word in vocab:\n",
    "                text_replaced.append(word)\n",
    "            else:\n",
    "                text_replaced.append('UNK')\n",
    "        text_replaced = ' '.join(text_replaced)\n",
    "        out.append(text_replaced)\n",
    "        \n",
    "    return out"
   ]
  },
  {
   "cell_type": "markdown",
   "metadata": {},
   "source": [
    "Below, we'll use `min_count=5` as one of our [hyperparameters](https://en.wikipedia.org/wiki/Hyperparameter_(machine_learning)) in our Word2Vec model, so let's replace all of the words in all three of our preprocessed tweet columns (`text_trigram`, `text_trigram_simple`, and `text_trigram_spacy`) in each DataFrame with `'UNK'`.\n",
    "\n",
    "> Important: We're using the tweets with the n-grams that we built in the Data Augmentation section for our Word2Vec model. If you skipped it, go back now!\n",
    "\n",
    "> Note: Normally this would happen during the initial preprocessing stage, allowing us to only need to call `replace_unknowns()` on our initial `data` DataFrame. Because we're calling `replace_unknowns()` after we've already split our data into training and validation sets, we need to call the function on all of the DataFrames we've already created."
   ]
  },
  {
   "cell_type": "code",
   "execution_count": 42,
   "metadata": {},
   "outputs": [
    {
     "data": {
      "text/html": [
       "<div>\n",
       "<style scoped>\n",
       "    .dataframe tbody tr th:only-of-type {\n",
       "        vertical-align: middle;\n",
       "    }\n",
       "\n",
       "    .dataframe tbody tr th {\n",
       "        vertical-align: top;\n",
       "    }\n",
       "\n",
       "    .dataframe thead th {\n",
       "        text-align: right;\n",
       "    }\n",
       "</style>\n",
       "<table border=\"1\" class=\"dataframe\">\n",
       "  <thead>\n",
       "    <tr style=\"text-align: right;\">\n",
       "      <th></th>\n",
       "      <th>id</th>\n",
       "      <th>keyword</th>\n",
       "      <th>location</th>\n",
       "      <th>text</th>\n",
       "      <th>target</th>\n",
       "      <th>text_simple</th>\n",
       "      <th>text_spacy</th>\n",
       "      <th>text_trigram</th>\n",
       "      <th>text_trigram_simple</th>\n",
       "      <th>text_trigram_spacy</th>\n",
       "      <th>text_count_5</th>\n",
       "      <th>text_simple_5</th>\n",
       "      <th>text_spacy_5</th>\n",
       "    </tr>\n",
       "  </thead>\n",
       "  <tbody>\n",
       "    <tr>\n",
       "      <th>0</th>\n",
       "      <td>1</td>\n",
       "      <td>NaN</td>\n",
       "      <td>NaN</td>\n",
       "      <td>Our Deeds are the Reason of this #earthquake M...</td>\n",
       "      <td>1</td>\n",
       "      <td>our deeds are the reason of this earthquake ma...</td>\n",
       "      <td>deed reason # earthquake allah forgive</td>\n",
       "      <td>Our Deeds are the Reason of this #earthquake M...</td>\n",
       "      <td>our deeds are the reason of this earthquake ma...</td>\n",
       "      <td>deed reason # earthquake allah forgive</td>\n",
       "      <td>our UNK are the reason of this #earthquake may...</td>\n",
       "      <td>our UNK are the reason of this earthquake may ...</td>\n",
       "      <td>UNK reason # earthquake allah UNK</td>\n",
       "    </tr>\n",
       "    <tr>\n",
       "      <th>1</th>\n",
       "      <td>4</td>\n",
       "      <td>NaN</td>\n",
       "      <td>NaN</td>\n",
       "      <td>Forest fire near La Ronge Sask. Canada</td>\n",
       "      <td>1</td>\n",
       "      <td>forest fire near la ronge sask canada</td>\n",
       "      <td>forest fire near la ronge sask . canada</td>\n",
       "      <td>Forest fire near La Ronge Sask. Canada</td>\n",
       "      <td>forest fire near la ronge sask canada</td>\n",
       "      <td>forest fire near la ronge sask . canada</td>\n",
       "      <td>forest fire near la UNK UNK canada</td>\n",
       "      <td>forest fire near la UNK UNK canada</td>\n",
       "      <td>forest fire near la UNK UNK . canada</td>\n",
       "    </tr>\n",
       "    <tr>\n",
       "      <th>2</th>\n",
       "      <td>5</td>\n",
       "      <td>NaN</td>\n",
       "      <td>NaN</td>\n",
       "      <td>All residents asked to 'shelter in place' are ...</td>\n",
       "      <td>1</td>\n",
       "      <td>all residents asked to shelter in place are be...</td>\n",
       "      <td>resident ask ' shelter place ' notify officer ...</td>\n",
       "      <td>All residents asked to 'shelter in place' are ...</td>\n",
       "      <td>all residents asked to shelter in place are be...</td>\n",
       "      <td>resident ask ' shelter place ' notify officer ...</td>\n",
       "      <td>all residents asked to UNK in UNK are being UN...</td>\n",
       "      <td>all residents asked to shelter in place are be...</td>\n",
       "      <td>resident ask ' shelter place ' UNK officer . e...</td>\n",
       "    </tr>\n",
       "    <tr>\n",
       "      <th>3</th>\n",
       "      <td>6</td>\n",
       "      <td>NaN</td>\n",
       "      <td>NaN</td>\n",
       "      <td>13,000 people receive #wildfires evacuation or...</td>\n",
       "      <td>1</td>\n",
       "      <td>13 000 people receive wildfires evacuation ord...</td>\n",
       "      <td>13,000 people receive # wildfire evacuation or...</td>\n",
       "      <td>13,000 people receive #wildfires evacuation or...</td>\n",
       "      <td>13 000 people receive wildfires evacuation ord...</td>\n",
       "      <td>13,000 people receive # wildfire evacuation or...</td>\n",
       "      <td>UNK people UNK UNK evacuation orders in califo...</td>\n",
       "      <td>13 UNK people UNK wildfires evacuation orders ...</td>\n",
       "      <td>UNK people UNK # wildfire evacuation order cal...</td>\n",
       "    </tr>\n",
       "    <tr>\n",
       "      <th>4</th>\n",
       "      <td>7</td>\n",
       "      <td>NaN</td>\n",
       "      <td>NaN</td>\n",
       "      <td>Just got sent this photo from Ruby #Alaska as ...</td>\n",
       "      <td>1</td>\n",
       "      <td>just got sent this photo from ruby alaska as s...</td>\n",
       "      <td>get send photo ruby # alaska smoke # wildfire ...</td>\n",
       "      <td>Just got sent this photo from Ruby #Alaska as ...</td>\n",
       "      <td>just got sent this photo from ruby alaska as s...</td>\n",
       "      <td>get send photo ruby # alaska smoke # wildfire ...</td>\n",
       "      <td>just got sent this photo from UNK UNK as smoke...</td>\n",
       "      <td>just got sent this photo from UNK alaska as sm...</td>\n",
       "      <td>get send photo UNK # alaska smoke # wildfire U...</td>\n",
       "    </tr>\n",
       "  </tbody>\n",
       "</table>\n",
       "</div>"
      ],
      "text/plain": [
       "   id keyword location                                               text  \\\n",
       "0   1     NaN      NaN  Our Deeds are the Reason of this #earthquake M...   \n",
       "1   4     NaN      NaN             Forest fire near La Ronge Sask. Canada   \n",
       "2   5     NaN      NaN  All residents asked to 'shelter in place' are ...   \n",
       "3   6     NaN      NaN  13,000 people receive #wildfires evacuation or...   \n",
       "4   7     NaN      NaN  Just got sent this photo from Ruby #Alaska as ...   \n",
       "\n",
       "   target                                        text_simple  \\\n",
       "0       1  our deeds are the reason of this earthquake ma...   \n",
       "1       1              forest fire near la ronge sask canada   \n",
       "2       1  all residents asked to shelter in place are be...   \n",
       "3       1  13 000 people receive wildfires evacuation ord...   \n",
       "4       1  just got sent this photo from ruby alaska as s...   \n",
       "\n",
       "                                          text_spacy  \\\n",
       "0             deed reason # earthquake allah forgive   \n",
       "1            forest fire near la ronge sask . canada   \n",
       "2  resident ask ' shelter place ' notify officer ...   \n",
       "3  13,000 people receive # wildfire evacuation or...   \n",
       "4  get send photo ruby # alaska smoke # wildfire ...   \n",
       "\n",
       "                                        text_trigram  \\\n",
       "0  Our Deeds are the Reason of this #earthquake M...   \n",
       "1             Forest fire near La Ronge Sask. Canada   \n",
       "2  All residents asked to 'shelter in place' are ...   \n",
       "3  13,000 people receive #wildfires evacuation or...   \n",
       "4  Just got sent this photo from Ruby #Alaska as ...   \n",
       "\n",
       "                                 text_trigram_simple  \\\n",
       "0  our deeds are the reason of this earthquake ma...   \n",
       "1              forest fire near la ronge sask canada   \n",
       "2  all residents asked to shelter in place are be...   \n",
       "3  13 000 people receive wildfires evacuation ord...   \n",
       "4  just got sent this photo from ruby alaska as s...   \n",
       "\n",
       "                                  text_trigram_spacy  \\\n",
       "0             deed reason # earthquake allah forgive   \n",
       "1            forest fire near la ronge sask . canada   \n",
       "2  resident ask ' shelter place ' notify officer ...   \n",
       "3  13,000 people receive # wildfire evacuation or...   \n",
       "4  get send photo ruby # alaska smoke # wildfire ...   \n",
       "\n",
       "                                        text_count_5  \\\n",
       "0  our UNK are the reason of this #earthquake may...   \n",
       "1                 forest fire near la UNK UNK canada   \n",
       "2  all residents asked to UNK in UNK are being UN...   \n",
       "3  UNK people UNK UNK evacuation orders in califo...   \n",
       "4  just got sent this photo from UNK UNK as smoke...   \n",
       "\n",
       "                                       text_simple_5  \\\n",
       "0  our UNK are the reason of this earthquake may ...   \n",
       "1                 forest fire near la UNK UNK canada   \n",
       "2  all residents asked to shelter in place are be...   \n",
       "3  13 UNK people UNK wildfires evacuation orders ...   \n",
       "4  just got sent this photo from UNK alaska as sm...   \n",
       "\n",
       "                                        text_spacy_5  \n",
       "0                  UNK reason # earthquake allah UNK  \n",
       "1               forest fire near la UNK UNK . canada  \n",
       "2  resident ask ' shelter place ' UNK officer . e...  \n",
       "3  UNK people UNK # wildfire evacuation order cal...  \n",
       "4  get send photo UNK # alaska smoke # wildfire U...  "
      ]
     },
     "execution_count": 42,
     "metadata": {},
     "output_type": "execute_result"
    }
   ],
   "source": [
    "#collapse\n",
    "data['text_count_5'] = replace_unknowns(data['text_trigram'], 5)\n",
    "data['text_simple_5'] = replace_unknowns(data['text_trigram_simple'], 5)\n",
    "data['text_spacy_5'] = replace_unknowns(data['text_trigram_spacy'], 5)\n",
    "data.head()"
   ]
  },
  {
   "cell_type": "code",
   "execution_count": 43,
   "metadata": {},
   "outputs": [],
   "source": [
    "#collapse\n",
    "valid['text_count_5'] = replace_unknowns(valid['text_trigram'], 5)\n",
    "valid['text_simple_5'] = replace_unknowns(valid['text_trigram_simple'], 5)\n",
    "valid['text_spacy_5'] = replace_unknowns(valid['text_trigram_spacy'], 5)\n",
    "\n",
    "disasters['text_count_5'] = replace_unknowns(disasters['text_trigram'], 5)\n",
    "disasters['text_simple_5'] = replace_unknowns(disasters['text_trigram_simple'], 5)\n",
    "disasters['text_spacy_5'] = replace_unknowns(disasters['text_trigram_spacy'], 5)\n",
    "\n",
    "not_disasters['text_count_5'] = replace_unknowns(not_disasters['text_trigram'], 5)\n",
    "not_disasters['text_simple_5'] = replace_unknowns(not_disasters['text_trigram_simple'], 5)\n",
    "not_disasters['text_spacy_5'] = replace_unknowns(not_disasters['text_trigram_spacy'], 5)"
   ]
  },
  {
   "cell_type": "markdown",
   "metadata": {},
   "source": [
    "Great, now our data is set up and ready to be used with a Word2Vec model!"
   ]
  },
  {
   "cell_type": "markdown",
   "metadata": {},
   "source": [
    "### Word2Vec with Unprocessed Tweets"
   ]
  },
  {
   "cell_type": "markdown",
   "metadata": {},
   "source": [
    "First and foremost, let's get rid of the `valid['prediction']` column that we made using TF-IDF."
   ]
  },
  {
   "cell_type": "code",
   "execution_count": 44,
   "metadata": {},
   "outputs": [],
   "source": [
    "valid = valid.drop(columns=['prediction'])"
   ]
  },
  {
   "cell_type": "markdown",
   "metadata": {},
   "source": [
    "Initialize our Word2Vec model.\n",
    "> Note: I'm splitting up the training of the model into three steps. See [this notebook](https://www.kaggle.com/pierremegret/gensim-word2vec-tutorial/comments) for more details on why (and Word2Vec in general)."
   ]
  },
  {
   "cell_type": "code",
   "execution_count": 45,
   "metadata": {},
   "outputs": [],
   "source": [
    "model = Word2Vec(min_count=5, sample=1e-3, workers=4, seed=24)"
   ]
  },
  {
   "cell_type": "markdown",
   "metadata": {},
   "source": [
    "Build the vocab for our model.\n",
    "\n",
    "The `.build_vocab()` method expects an iterable of a list of strings as its input, so first we split our tweets to adhere to that. Notice that we're looping through all of the tweets in our original `data` DataFrame rather than the `train` DataFrame we created. This is because we need the vocabulary of *all* tweets (in both the training and validation data) in order to properly compare tweets in the training data to tweets in the validation data. If we just built our model on the training data, many of the words in the validation tweets would throw OOV errors!"
   ]
  },
  {
   "cell_type": "code",
   "execution_count": 46,
   "metadata": {},
   "outputs": [],
   "source": [
    "tweets = [\n",
    "    [wd for wd in tweet.split(' ')]\n",
    "    for tweet in data['text_count_5']\n",
    "]\n",
    "\n",
    "model.build_vocab(tweets)"
   ]
  },
  {
   "cell_type": "markdown",
   "metadata": {},
   "source": [
    "Now we can train the model over 30 epochs (cycles)."
   ]
  },
  {
   "cell_type": "code",
   "execution_count": 47,
   "metadata": {},
   "outputs": [
    {
     "data": {
      "text/plain": [
       "(2006054, 3383040)"
      ]
     },
     "execution_count": 47,
     "metadata": {},
     "output_type": "execute_result"
    }
   ],
   "source": [
    "model.train(tweets, total_examples=model.corpus_count, epochs=30)"
   ]
  },
  {
   "cell_type": "markdown",
   "metadata": {},
   "source": [
    "Now we normalize vectors in the vocaulary for consistency.\n",
    "> Important: You wouldn't do this if you were going to train further down the line. See [this notebook](https://github.com/RaRe-Technologies/gensim/blob/develop/docs/notebooks/online_w2v_tutorial.ipynb) for more information about expanding your model's vocabulary."
   ]
  },
  {
   "cell_type": "code",
   "execution_count": 48,
   "metadata": {},
   "outputs": [],
   "source": [
    "model.wv.init_sims(replace=True)"
   ]
  },
  {
   "cell_type": "markdown",
   "metadata": {},
   "source": [
    "Now we can make our predictions.\n",
    "\n",
    "Just as when we were doing TF-IDF, we need to initialize a `prediction` column in the `valid` DataFrame to store our predictions."
   ]
  },
  {
   "cell_type": "code",
   "execution_count": 49,
   "metadata": {},
   "outputs": [],
   "source": [
    "valid['prediction'] = np.zeros(len(valid)).astype('int')"
   ]
  },
  {
   "cell_type": "markdown",
   "metadata": {},
   "source": [
    "Similar to how we predicted whether a tweet was a disaster or not with TF-IDF, we have to compare each tweet in the validation data with each tweet in both the `disasters` DataFrame and the `not_disasters` DataFrame.\n",
    "\n",
    "So, this time, for each tweet, we:\n",
    "1. Split the validation tweet on all whitespace characters.\n",
    "2. Calculate the similarity between the validation tweet and each disaster and non-disaster tweet (also split on whitespace characters).\n",
    "3. If the similarity between the two tweets is greater than 0.7, add to that tweet set's tally.\n",
    "4. If the disaster tally is gerater than the non-disaster tally, we change the value of the prediction column for the validation tweet to 1 (otherwise, it remains 0, indicating a non-disastrous guess).\n",
    "\n",
    "This is exemplified below:\n",
    "\n",
    "> Note: This model takes a little bit of time to train. It took almost 16 minutes on my machine."
   ]
  },
  {
   "cell_type": "code",
   "execution_count": 50,
   "metadata": {},
   "outputs": [
    {
     "name": "stdout",
     "output_type": "stream",
     "text": [
      "Runtime: 15.00377383629481 mins\n"
     ]
    }
   ],
   "source": [
    "start_time = time.time()\n",
    "\n",
    "for valid_row in range(len(valid)):\n",
    "    valid_tweet = valid.loc[valid_row, 'text_count_5']\n",
    "    tokenized_valid_tweet = re.split('\\s+', valid_tweet) # split on all whitespace characters\n",
    "    \n",
    "    disaster_count = 0\n",
    "    not_disaster_count = 0\n",
    "    \n",
    "    # we can just reuse \"disasters\" and\n",
    "    # \"not_disasters\" from earlier!\n",
    "    for disaster_row in range(len(disasters)):\n",
    "        disaster_tweet = disasters.loc[disaster_row, 'text_count_5']\n",
    "        tokenized_disaster_tweet = re.split('\\s+', disaster_tweet)\n",
    "        if model.wv.n_similarity(tokenized_valid_tweet, tokenized_disaster_tweet) > 0.7:\n",
    "            disaster_count += 1\n",
    "        \n",
    "    for not_disaster_row in range(len(not_disasters)):\n",
    "        not_disaster_tweet = not_disasters.loc[not_disaster_row, 'text_count_5']\n",
    "        tokenized_not_disaster_tweet = re.split('\\s+', not_disaster_tweet)\n",
    "        if model.wv.n_similarity(tokenized_valid_tweet, tokenized_not_disaster_tweet) > 0.7:\n",
    "            not_disaster_count += 1\n",
    "            \n",
    "    if disaster_count > not_disaster_count:\n",
    "        valid.loc[valid_row, 'prediction'] = 1\n",
    "        \n",
    "end_time = time.time()\n",
    "print(f'Runtime: {(end_time - start_time) / 60.0} mins')"
   ]
  },
  {
   "cell_type": "markdown",
   "metadata": {},
   "source": [
    "Now let's take another look at the `valid` DataFrame to see if we've got some predictions..."
   ]
  },
  {
   "cell_type": "code",
   "execution_count": 51,
   "metadata": {
    "scrolled": true
   },
   "outputs": [
    {
     "data": {
      "text/html": [
       "<div>\n",
       "<style scoped>\n",
       "    .dataframe tbody tr th:only-of-type {\n",
       "        vertical-align: middle;\n",
       "    }\n",
       "\n",
       "    .dataframe tbody tr th {\n",
       "        vertical-align: top;\n",
       "    }\n",
       "\n",
       "    .dataframe thead th {\n",
       "        text-align: right;\n",
       "    }\n",
       "</style>\n",
       "<table border=\"1\" class=\"dataframe\">\n",
       "  <thead>\n",
       "    <tr style=\"text-align: right;\">\n",
       "      <th></th>\n",
       "      <th>index</th>\n",
       "      <th>id</th>\n",
       "      <th>keyword</th>\n",
       "      <th>location</th>\n",
       "      <th>text</th>\n",
       "      <th>target</th>\n",
       "      <th>text_simple</th>\n",
       "      <th>text_spacy</th>\n",
       "      <th>text_trigram</th>\n",
       "      <th>text_trigram_simple</th>\n",
       "      <th>text_trigram_spacy</th>\n",
       "      <th>text_count_5</th>\n",
       "      <th>text_simple_5</th>\n",
       "      <th>text_spacy_5</th>\n",
       "      <th>prediction</th>\n",
       "    </tr>\n",
       "  </thead>\n",
       "  <tbody>\n",
       "    <tr>\n",
       "      <th>0</th>\n",
       "      <td>3068</td>\n",
       "      <td>4402</td>\n",
       "      <td>electrocute</td>\n",
       "      <td>NaN</td>\n",
       "      <td>Kids got Disney version of the game Operation ...</td>\n",
       "      <td>0</td>\n",
       "      <td>kids got disney version of the game operation ...</td>\n",
       "      <td>kid get disney version game operation 2 aa bat...</td>\n",
       "      <td>Kids got Disney version of the game Operation ...</td>\n",
       "      <td>kids got disney version of the game operation ...</td>\n",
       "      <td>kid get disney version game operation 2 aa bat...</td>\n",
       "      <td>UNK got UNK UNK of the game UNK only 2 UNK UNK...</td>\n",
       "      <td>kids got UNK UNK of the game UNK only 2 UNK UN...</td>\n",
       "      <td>kid get UNK version game UNK 2 UNK UNK ? UNK o...</td>\n",
       "      <td>0</td>\n",
       "    </tr>\n",
       "    <tr>\n",
       "      <th>1</th>\n",
       "      <td>3148</td>\n",
       "      <td>4522</td>\n",
       "      <td>emergency</td>\n",
       "      <td>Indianapolis, IN</td>\n",
       "      <td>UPDATE: Indiana State Police reopening I-65 ne...</td>\n",
       "      <td>1</td>\n",
       "      <td>update indiana state police reopening i 65 nea...</td>\n",
       "      <td>update : indiana state police reopen i-65 near...</td>\n",
       "      <td>UPDATE: Indiana State Police reopening I-65 ne...</td>\n",
       "      <td>update indiana state police reopening i 65 nea...</td>\n",
       "      <td>update : indiana state police reopen i-65 near...</td>\n",
       "      <td>update: UNK state police UNK UNK near UNK UNK ...</td>\n",
       "      <td>update UNK state police UNK i UNK near UNK UNK...</td>\n",
       "      <td>update : UNK state police UNK UNK near UNK UNK...</td>\n",
       "      <td>0</td>\n",
       "    </tr>\n",
       "    <tr>\n",
       "      <th>2</th>\n",
       "      <td>3139</td>\n",
       "      <td>4511</td>\n",
       "      <td>emergency</td>\n",
       "      <td>Phoenix</td>\n",
       "      <td>God forbid anyone in my family knows how to an...</td>\n",
       "      <td>0</td>\n",
       "      <td>god forbid anyone in my family knows how to an...</td>\n",
       "      <td>god forbid family know answer phone . need new...</td>\n",
       "      <td>God forbid anyone in my family knows how to an...</td>\n",
       "      <td>god forbid anyone in my family knows how to an...</td>\n",
       "      <td>god forbid family know answer phone . need new...</td>\n",
       "      <td>god UNK UNK in my family UNK how to UNK a UNK ...</td>\n",
       "      <td>god UNK UNK in my family UNK how to UNK a phon...</td>\n",
       "      <td>god UNK family know UNK phone . need new emerg...</td>\n",
       "      <td>0</td>\n",
       "    </tr>\n",
       "    <tr>\n",
       "      <th>3</th>\n",
       "      <td>7485</td>\n",
       "      <td>10707</td>\n",
       "      <td>wreck</td>\n",
       "      <td>Alabama, USA</td>\n",
       "      <td>First wreck today. So so glad me and mom are o...</td>\n",
       "      <td>0</td>\n",
       "      <td>first wreck today so so glad me and mom are ok...</td>\n",
       "      <td>wreck today . glad mom okay . lot bad . happy ...</td>\n",
       "      <td>First wreck today. So so glad me and mom are o...</td>\n",
       "      <td>first wreck today so so glad me and mom are ok...</td>\n",
       "      <td>wreck today . glad mom okay . lot bad . happy ...</td>\n",
       "      <td>first wreck UNK so so UNK me and UNK are UNK U...</td>\n",
       "      <td>first wreck today so so UNK me and UNK are UNK...</td>\n",
       "      <td>wreck today . UNK UNK UNK . lot bad . UNK UNK ...</td>\n",
       "      <td>0</td>\n",
       "    </tr>\n",
       "    <tr>\n",
       "      <th>4</th>\n",
       "      <td>6023</td>\n",
       "      <td>8608</td>\n",
       "      <td>seismic</td>\n",
       "      <td>Somalia</td>\n",
       "      <td>Exploration takes seismic shift in Gabon to So...</td>\n",
       "      <td>0</td>\n",
       "      <td>exploration takes seismic shift in gabon to so...</td>\n",
       "      <td>exploration take seismic shift gabon somalia -...</td>\n",
       "      <td>Exploration takes seismic shift in Gabon to So...</td>\n",
       "      <td>exploration takes seismic shift in gabon to so...</td>\n",
       "      <td>exploration take seismic shift gabon somalia -...</td>\n",
       "      <td>UNK UNK seismic UNK in UNK to UNK - UNK UNK UN...</td>\n",
       "      <td>UNK UNK seismic UNK in UNK to UNK UNK UNK</td>\n",
       "      <td>UNK take seismic UNK UNK UNK - UNK ( UNK ) UNK...</td>\n",
       "      <td>0</td>\n",
       "    </tr>\n",
       "  </tbody>\n",
       "</table>\n",
       "</div>"
      ],
      "text/plain": [
       "   index     id      keyword          location  \\\n",
       "0   3068   4402  electrocute               NaN   \n",
       "1   3148   4522    emergency  Indianapolis, IN   \n",
       "2   3139   4511    emergency           Phoenix   \n",
       "3   7485  10707        wreck      Alabama, USA   \n",
       "4   6023   8608      seismic           Somalia   \n",
       "\n",
       "                                                text  target  \\\n",
       "0  Kids got Disney version of the game Operation ...       0   \n",
       "1  UPDATE: Indiana State Police reopening I-65 ne...       1   \n",
       "2  God forbid anyone in my family knows how to an...       0   \n",
       "3  First wreck today. So so glad me and mom are o...       0   \n",
       "4  Exploration takes seismic shift in Gabon to So...       0   \n",
       "\n",
       "                                         text_simple  \\\n",
       "0  kids got disney version of the game operation ...   \n",
       "1  update indiana state police reopening i 65 nea...   \n",
       "2  god forbid anyone in my family knows how to an...   \n",
       "3  first wreck today so so glad me and mom are ok...   \n",
       "4  exploration takes seismic shift in gabon to so...   \n",
       "\n",
       "                                          text_spacy  \\\n",
       "0  kid get disney version game operation 2 aa bat...   \n",
       "1  update : indiana state police reopen i-65 near...   \n",
       "2  god forbid family know answer phone . need new...   \n",
       "3  wreck today . glad mom okay . lot bad . happy ...   \n",
       "4  exploration take seismic shift gabon somalia -...   \n",
       "\n",
       "                                        text_trigram  \\\n",
       "0  Kids got Disney version of the game Operation ...   \n",
       "1  UPDATE: Indiana State Police reopening I-65 ne...   \n",
       "2  God forbid anyone in my family knows how to an...   \n",
       "3  First wreck today. So so glad me and mom are o...   \n",
       "4  Exploration takes seismic shift in Gabon to So...   \n",
       "\n",
       "                                 text_trigram_simple  \\\n",
       "0  kids got disney version of the game operation ...   \n",
       "1  update indiana state police reopening i 65 nea...   \n",
       "2  god forbid anyone in my family knows how to an...   \n",
       "3  first wreck today so so glad me and mom are ok...   \n",
       "4  exploration takes seismic shift in gabon to so...   \n",
       "\n",
       "                                  text_trigram_spacy  \\\n",
       "0  kid get disney version game operation 2 aa bat...   \n",
       "1  update : indiana state police reopen i-65 near...   \n",
       "2  god forbid family know answer phone . need new...   \n",
       "3  wreck today . glad mom okay . lot bad . happy ...   \n",
       "4  exploration take seismic shift gabon somalia -...   \n",
       "\n",
       "                                        text_count_5  \\\n",
       "0  UNK got UNK UNK of the game UNK only 2 UNK UNK...   \n",
       "1  update: UNK state police UNK UNK near UNK UNK ...   \n",
       "2  god UNK UNK in my family UNK how to UNK a UNK ...   \n",
       "3  first wreck UNK so so UNK me and UNK are UNK U...   \n",
       "4  UNK UNK seismic UNK in UNK to UNK - UNK UNK UN...   \n",
       "\n",
       "                                       text_simple_5  \\\n",
       "0  kids got UNK UNK of the game UNK only 2 UNK UN...   \n",
       "1  update UNK state police UNK i UNK near UNK UNK...   \n",
       "2  god UNK UNK in my family UNK how to UNK a phon...   \n",
       "3  first wreck today so so UNK me and UNK are UNK...   \n",
       "4          UNK UNK seismic UNK in UNK to UNK UNK UNK   \n",
       "\n",
       "                                        text_spacy_5  prediction  \n",
       "0  kid get UNK version game UNK 2 UNK UNK ? UNK o...           0  \n",
       "1  update : UNK state police UNK UNK near UNK UNK...           0  \n",
       "2  god UNK family know UNK phone . need new emerg...           0  \n",
       "3  wreck today . UNK UNK UNK . lot bad . UNK UNK ...           0  \n",
       "4  UNK take seismic UNK UNK UNK - UNK ( UNK ) UNK...           0  "
      ]
     },
     "execution_count": 51,
     "metadata": {},
     "output_type": "execute_result"
    }
   ],
   "source": [
    "valid.head()"
   ]
  },
  {
   "cell_type": "markdown",
   "metadata": {},
   "source": [
    "Seems to have worked!\n",
    "\n",
    "Now let's find out the accuracy and F1 score of our Word2Vec model using the unprocessed tweet data."
   ]
  },
  {
   "cell_type": "code",
   "execution_count": 52,
   "metadata": {},
   "outputs": [
    {
     "data": {
      "text/plain": [
       "(0.6339285714285714, 0.277720207253886)"
      ]
     },
     "execution_count": 52,
     "metadata": {},
     "output_type": "execute_result"
    }
   ],
   "source": [
    "accuracy = accuracy_score(valid['target'], valid['prediction'])\n",
    "F1 = f1_score(valid['target'], valid['prediction'])\n",
    "accuracy, F1"
   ]
  },
  {
   "cell_type": "markdown",
   "metadata": {},
   "source": [
    "`63.39%` accuracy! That's about the same as the TF-IDF model. The F1 score on the other hand... yikes! `0.28`. Horrible!\n",
    "\n",
    "> Note: There's a bit of randomness involved when making predictions with Word2Vec and transfer learning (coming up). For this reason, if you run this notebook, your metrics may be a little different than what is shown here.\n",
    "\n",
    "Can we improve that with either of the preprocessed tweets?"
   ]
  },
  {
   "cell_type": "markdown",
   "metadata": {},
   "source": [
    "### Word2Vec with \"Simple\" Tweets"
   ]
  },
  {
   "cell_type": "markdown",
   "metadata": {},
   "source": [
    "Once again, we clear out the predictions we've just made from `valid`."
   ]
  },
  {
   "cell_type": "code",
   "execution_count": 53,
   "metadata": {
    "scrolled": false
   },
   "outputs": [],
   "source": [
    "valid = valid.drop(columns=['prediction'])"
   ]
  },
  {
   "cell_type": "markdown",
   "metadata": {},
   "source": [
    "Just like with TF-IDF (seeing a trend here?), the process this time around will be exactly the same as before. The only change we need to make is that we are indexing into the `text_simple_5` column in the `disaster_tweets` and `not_disaster_tweets` DataFrames.\n",
    "\n",
    "Since the procedures are the same, let's skip to the metrics! (You can still expand the code below if you need a closer look.)"
   ]
  },
  {
   "cell_type": "code",
   "execution_count": 54,
   "metadata": {},
   "outputs": [
    {
     "name": "stdout",
     "output_type": "stream",
     "text": [
      "Runtime: 15.7726225177447 mins\n"
     ]
    }
   ],
   "source": [
    "#collapse\n",
    "start_time = time.time()\n",
    "\n",
    "model = Word2Vec(min_count=5, sample=1e-3, workers=4, seed=24)\n",
    "\n",
    "tweets = [\n",
    "    [wd for wd in tweet.split(' ')]\n",
    "    for tweet in data['text_simple_5']\n",
    "]\n",
    "\n",
    "model.build_vocab(tweets)\n",
    "\n",
    "model.train(tweets, total_examples=model.corpus_count, epochs=30)\n",
    "\n",
    "model.wv.init_sims(replace=True)\n",
    "\n",
    "valid['prediction'] = np.zeros(len(valid)).astype('int')\n",
    "\n",
    "for valid_row in range(len(valid)):\n",
    "    valid_tweet = valid.loc[valid_row, 'text_simple_5']\n",
    "    tokenized_valid_tweet = re.split('\\s+', valid_tweet) # split on all whitespace characters\n",
    "    \n",
    "    disaster_count = 0\n",
    "    not_disaster_count = 0\n",
    "    \n",
    "    # we can just reuse \"disasters\" and\n",
    "    # \"not_disasters\" from earlier!\n",
    "    for disaster_row in range(len(disasters)):\n",
    "        disaster_tweet = disasters.loc[disaster_row, 'text_simple_5']\n",
    "        tokenized_disaster_tweet = re.split('\\s+', disaster_tweet)\n",
    "        if model.wv.n_similarity(tokenized_valid_tweet, tokenized_disaster_tweet) > 0.7:\n",
    "            disaster_count += 1\n",
    "        \n",
    "    for not_disaster_row in range(len(not_disasters)):\n",
    "        not_disaster_tweet = not_disasters.loc[not_disaster_row, 'text_simple_5']\n",
    "        tokenized_not_disaster_tweet = re.split('\\s+', not_disaster_tweet)\n",
    "        if model.wv.n_similarity(tokenized_valid_tweet, tokenized_not_disaster_tweet) > 0.7:\n",
    "            not_disaster_count += 1\n",
    "            \n",
    "    if disaster_count > not_disaster_count:\n",
    "        valid.loc[valid_row, 'prediction'] = 1\n",
    "        \n",
    "end_time = time.time()\n",
    "print(f'Runtime: {(end_time - start_time) / 60.0} mins')"
   ]
  },
  {
   "cell_type": "code",
   "execution_count": 55,
   "metadata": {},
   "outputs": [
    {
     "data": {
      "text/plain": [
       "(0.6727941176470589, 0.4331210191082802)"
      ]
     },
     "execution_count": 55,
     "metadata": {},
     "output_type": "execute_result"
    }
   ],
   "source": [
    "accuracy = accuracy_score(valid['target'], valid['prediction'])\n",
    "F1 = f1_score(valid['target'], valid['prediction'])\n",
    "accuracy, F1"
   ]
  },
  {
   "cell_type": "markdown",
   "metadata": {},
   "source": [
    "Quite an improvement! Our accuracy and F1 score went up to `67.28%` and `0.43`, respectively.\n",
    "\n",
    "Now let's see how the SpaCy tweets perform in our Word2Vec model."
   ]
  },
  {
   "cell_type": "markdown",
   "metadata": {},
   "source": [
    "### Word2Vec with SpaCy Tweets"
   ]
  },
  {
   "cell_type": "markdown",
   "metadata": {},
   "source": [
    "Same process as before, let's clear the old predictions from `valid` and skip to the metrics!"
   ]
  },
  {
   "cell_type": "code",
   "execution_count": 56,
   "metadata": {},
   "outputs": [],
   "source": [
    "valid = valid.drop(columns=['prediction'])"
   ]
  },
  {
   "cell_type": "code",
   "execution_count": 57,
   "metadata": {},
   "outputs": [
    {
     "name": "stdout",
     "output_type": "stream",
     "text": [
      "Runtime: 13.444611112276712 mins\n"
     ]
    }
   ],
   "source": [
    "#collapse\n",
    "start_time = time.time()\n",
    "\n",
    "model = Word2Vec(min_count=5, sample=1e-3, workers=4, seed=24)\n",
    "\n",
    "tweets = [\n",
    "    [wd for wd in tweet.split(' ')]\n",
    "    for tweet in data['text_spacy_5']\n",
    "]\n",
    "\n",
    "model.build_vocab(tweets)\n",
    "\n",
    "model.train(tweets, total_examples=model.corpus_count, epochs=30)\n",
    "\n",
    "model.wv.init_sims(replace=True)\n",
    "\n",
    "valid['prediction'] = np.zeros(len(valid)).astype('int')\n",
    "\n",
    "for valid_row in range(len(valid)):\n",
    "    valid_tweet = valid.loc[valid_row, 'text_spacy_5']\n",
    "    tokenized_valid_tweet = re.split('\\s+', valid_tweet) # split on all whitespace characters\n",
    "    \n",
    "    disaster_count = 0\n",
    "    not_disaster_count = 0\n",
    "    \n",
    "    # we can just reuse \"disasters\" and\n",
    "    # \"not_disasters\" from earlier!\n",
    "    for disaster_row in range(len(disasters)):\n",
    "        disaster_tweet = disasters.loc[disaster_row, 'text_spacy_5']\n",
    "        tokenized_disaster_tweet = re.split('\\s+', disaster_tweet)\n",
    "        if model.wv.n_similarity(tokenized_valid_tweet, tokenized_disaster_tweet) > 0.7:\n",
    "            disaster_count += 1\n",
    "        \n",
    "    for not_disaster_row in range(len(not_disasters)):\n",
    "        not_disaster_tweet = not_disasters.loc[not_disaster_row, 'text_spacy_5']\n",
    "        tokenized_not_disaster_tweet = re.split('\\s+', not_disaster_tweet)\n",
    "        if model.wv.n_similarity(tokenized_valid_tweet, tokenized_not_disaster_tweet) > 0.7:\n",
    "            not_disaster_count += 1\n",
    "            \n",
    "    if disaster_count > not_disaster_count:\n",
    "        valid.loc[valid_row, 'prediction'] = 1\n",
    "        \n",
    "end_time = time.time()\n",
    "print(f'Runtime: {(end_time - start_time) / 60.0} mins')"
   ]
  },
  {
   "cell_type": "code",
   "execution_count": 58,
   "metadata": {},
   "outputs": [
    {
     "data": {
      "text/plain": [
       "(0.6444327731092437, 0.3236763236763237)"
      ]
     },
     "execution_count": 58,
     "metadata": {},
     "output_type": "execute_result"
    }
   ],
   "source": [
    "accuracy = accuracy_score(valid['target'], valid['prediction'])\n",
    "F1 = f1_score(valid['target'], valid['prediction'])\n",
    "accuracy, F1"
   ]
  },
  {
   "cell_type": "markdown",
   "metadata": {},
   "source": [
    "SpaCy, this time, comes in the middle of our three tests with an accuracy of `64.44%` and F1 score of `0.32`.\n",
    "\n",
    "Among the three datasets trained with a Word2Vec model, the \"simple\" tweets seem to have it again with an accuracy of `67.28%` and an F1 score of `0.43`.\n",
    "\n",
    "Lastly, let's turn to transfer learning."
   ]
  },
  {
   "cell_type": "markdown",
   "metadata": {},
   "source": [
    "# Transfer Learning with fastai"
   ]
  },
  {
   "cell_type": "code",
   "execution_count": 59,
   "metadata": {},
   "outputs": [],
   "source": [
    "#collapse\n",
    "from fastai.text.all import *"
   ]
  },
  {
   "cell_type": "markdown",
   "metadata": {},
   "source": [
    "Rather than create our own neural network from scratch that competes with something like Word2Vec, we can use transfer learning to quickly adapt our language data by using a model that's already been trained on a lot more data than just what we have.\n",
    "\n",
    "From [Jason Brownlee](https://machinelearningmastery.com/transfer-learning-for-deep-learning/):\n",
    "> Transfer learning is a machine learning method where a model developed for a task is reused as the starting point for a model on a second task.\n",
    "\n",
    "In order to perform transfer learning, we'll be using [fastai](https://docs.fast.ai/). Fastai is great because it really simplifies the training procedure, thereby making it super easy to perform an array of deep learning tasks.\n",
    "\n",
    "We'll need two classes from fastai to conduct transfer learning with text: `language_model_learner` and `text_classifier_learner`. The former will allow us to shape the pretrained model with our own data to make a new language model, while the latter will allow us to create a classifier model for the tweets we have (the same task we've been doing above).\n",
    "\n",
    "Let's start, per usual, with the unprocessed tweets."
   ]
  },
  {
   "cell_type": "markdown",
   "metadata": {},
   "source": [
    "### Transfer Learning with Unprocessed Tweets"
   ]
  },
  {
   "cell_type": "markdown",
   "metadata": {},
   "source": [
    "Fastai uses PyTorch under the hood, which requires our data to be formatted in [a specific way](https://pytorch.org/docs/stable/data.html). In order to do this most efficiently, we can use fastai's `DataBlock` object and `.dataloaders()` method. With `DataBlock`, we can:\n",
    "1. Directly pull our columns from the dataframe that we'd like to train *and* test on.\n",
    "2. Split the data however we'd like.\n",
    "3. [And more!](https://docs.fast.ai/data.block#DataBlock)\n",
    "\n",
    "Let's start by creating a `DataBlock` that we'll pass to `language_model_learner` to create a new language model tailored to our data."
   ]
  },
  {
   "cell_type": "code",
   "execution_count": 82,
   "metadata": {},
   "outputs": [],
   "source": [
    "dls_lm = DataBlock(\n",
    "    blocks=(TextBlock.from_df('text', is_lm=True)),\n",
    "    get_items=ColReader('text'),\n",
    "    splitter=RandomSplitter(0.1)\n",
    ").dataloaders(data, bs=128, seq_len=80)"
   ]
  },
  {
   "cell_type": "markdown",
   "metadata": {},
   "source": [
    "Note that there is only one block in the `DataBlock` we just created: a `TextBlock`. All we need to create a language model is the text (we don't care about the categories yet), so we only need one block in the `DataBlock`. We also need to specify the parameter `is_lm=True` when creating the `TextBlock`, to specify that this is our language model.\n",
    "\n",
    "Now we can use `.show_batch()` to take a look at our newly formatted data:"
   ]
  },
  {
   "cell_type": "code",
   "execution_count": 83,
   "metadata": {},
   "outputs": [
    {
     "data": {
      "text/html": [
       "<table border=\"1\" class=\"dataframe\">\n",
       "  <thead>\n",
       "    <tr style=\"text-align: right;\">\n",
       "      <th></th>\n",
       "      <th>text</th>\n",
       "      <th>text_</th>\n",
       "    </tr>\n",
       "  </thead>\n",
       "  <tbody>\n",
       "    <tr>\n",
       "      <th>0</th>\n",
       "      <td>xxbos xxmaj debris found on xxmaj reunion xxmaj island comes from xxup mh370 : xxmaj malaysian xxup pm http : / / t.co / xxunk xxbos xxunk xxmaj what a fucking idiot . xxmaj he had a gun &amp; &amp; a hatchet yet there were still no serious injuries . xxmaj glad police xxunk him . xxbos xxmaj xxunk just died a thousand deaths ! xxrep 4 ? http : / / t.co / xxunk xxbos ' your body will</td>\n",
       "      <td>xxmaj debris found on xxmaj reunion xxmaj island comes from xxup mh370 : xxmaj malaysian xxup pm http : / / t.co / xxunk xxbos xxunk xxmaj what a fucking idiot . xxmaj he had a gun &amp; &amp; a hatchet yet there were still no serious injuries . xxmaj glad police xxunk him . xxbos xxmaj xxunk just died a thousand deaths ! xxrep 4 ? http : / / t.co / xxunk xxbos ' your body will heal</td>\n",
       "    </tr>\n",
       "    <tr>\n",
       "      <th>1</th>\n",
       "      <td>indian xxunk xxunk _ http : / / t.co / xxunk xxbos xxmaj the xxunk xxunk and xxunk has sunk ever lower and xxmaj xxunk who has served on the court since 1998 has … http : / / t.co / xxunk xxbos xxunk _ did n't look like a murder scene just 1 cops a fire truck and 2 fire assistance cars along with a helicopter xxbos xxunk xxmaj there are xxmaj christian terrorists to be sure but i</td>\n",
       "      <td>xxunk xxunk _ http : / / t.co / xxunk xxbos xxmaj the xxunk xxunk and xxunk has sunk ever lower and xxmaj xxunk who has served on the court since 1998 has … http : / / t.co / xxunk xxbos xxunk _ did n't look like a murder scene just 1 cops a fire truck and 2 fire assistance cars along with a helicopter xxbos xxunk xxmaj there are xxmaj christian terrorists to be sure but i do</td>\n",
       "    </tr>\n",
       "  </tbody>\n",
       "</table>"
      ],
      "text/plain": [
       "<IPython.core.display.HTML object>"
      ]
     },
     "metadata": {},
     "output_type": "display_data"
    }
   ],
   "source": [
    "dls_lm.show_batch(max_n=2)"
   ]
  },
  {
   "cell_type": "markdown",
   "metadata": {},
   "source": [
    "We can now instantiate our `language_model_learner` using the `DataBlock` we just created and `AWD_LSTM`, which is a pretrained model provided by fastai. You can learn more about `AWD_LSTM` [here](https://arxiv.org/pdf/1708.02182.pdf)."
   ]
  },
  {
   "cell_type": "code",
   "execution_count": 84,
   "metadata": {},
   "outputs": [],
   "source": [
    "learn = language_model_learner(\n",
    "    dls_lm, AWD_LSTM, drop_mult=0.3,\n",
    "    metrics=[accuracy, Perplexity()])"
   ]
  },
  {
   "cell_type": "markdown",
   "metadata": {},
   "source": [
    "All that's left to do is fit our language model!\n",
    "\n",
    "You'll note that fastai also provides super clear, customizable output for each training cycle."
   ]
  },
  {
   "cell_type": "code",
   "execution_count": 85,
   "metadata": {},
   "outputs": [
    {
     "data": {
      "text/html": [
       "<table border=\"1\" class=\"dataframe\">\n",
       "  <thead>\n",
       "    <tr style=\"text-align: left;\">\n",
       "      <th>epoch</th>\n",
       "      <th>train_loss</th>\n",
       "      <th>valid_loss</th>\n",
       "      <th>accuracy</th>\n",
       "      <th>perplexity</th>\n",
       "      <th>time</th>\n",
       "    </tr>\n",
       "  </thead>\n",
       "  <tbody>\n",
       "    <tr>\n",
       "      <td>0</td>\n",
       "      <td>4.493653</td>\n",
       "      <td>3.554004</td>\n",
       "      <td>0.404785</td>\n",
       "      <td>34.952980</td>\n",
       "      <td>01:48</td>\n",
       "    </tr>\n",
       "  </tbody>\n",
       "</table>"
      ],
      "text/plain": [
       "<IPython.core.display.HTML object>"
      ]
     },
     "metadata": {},
     "output_type": "display_data"
    }
   ],
   "source": [
    "learn.fit_one_cycle(1, 2e-2)"
   ]
  },
  {
   "cell_type": "code",
   "execution_count": 86,
   "metadata": {},
   "outputs": [
    {
     "data": {
      "text/html": [
       "<table border=\"1\" class=\"dataframe\">\n",
       "  <thead>\n",
       "    <tr style=\"text-align: left;\">\n",
       "      <th>epoch</th>\n",
       "      <th>train_loss</th>\n",
       "      <th>valid_loss</th>\n",
       "      <th>accuracy</th>\n",
       "      <th>perplexity</th>\n",
       "      <th>time</th>\n",
       "    </tr>\n",
       "  </thead>\n",
       "  <tbody>\n",
       "    <tr>\n",
       "      <td>0</td>\n",
       "      <td>3.789885</td>\n",
       "      <td>3.534729</td>\n",
       "      <td>0.407548</td>\n",
       "      <td>34.285706</td>\n",
       "      <td>01:46</td>\n",
       "    </tr>\n",
       "    <tr>\n",
       "      <td>1</td>\n",
       "      <td>3.752954</td>\n",
       "      <td>3.466075</td>\n",
       "      <td>0.413096</td>\n",
       "      <td>32.010853</td>\n",
       "      <td>01:45</td>\n",
       "    </tr>\n",
       "    <tr>\n",
       "      <td>2</td>\n",
       "      <td>3.695044</td>\n",
       "      <td>3.380348</td>\n",
       "      <td>0.420731</td>\n",
       "      <td>29.381001</td>\n",
       "      <td>01:45</td>\n",
       "    </tr>\n",
       "    <tr>\n",
       "      <td>3</td>\n",
       "      <td>3.633570</td>\n",
       "      <td>3.311184</td>\n",
       "      <td>0.427943</td>\n",
       "      <td>27.417580</td>\n",
       "      <td>01:44</td>\n",
       "    </tr>\n",
       "    <tr>\n",
       "      <td>4</td>\n",
       "      <td>3.567487</td>\n",
       "      <td>3.263233</td>\n",
       "      <td>0.432484</td>\n",
       "      <td>26.133884</td>\n",
       "      <td>01:43</td>\n",
       "    </tr>\n",
       "    <tr>\n",
       "      <td>5</td>\n",
       "      <td>3.499947</td>\n",
       "      <td>3.227200</td>\n",
       "      <td>0.436647</td>\n",
       "      <td>25.208973</td>\n",
       "      <td>01:45</td>\n",
       "    </tr>\n",
       "    <tr>\n",
       "      <td>6</td>\n",
       "      <td>3.441441</td>\n",
       "      <td>3.206076</td>\n",
       "      <td>0.438934</td>\n",
       "      <td>24.682047</td>\n",
       "      <td>01:45</td>\n",
       "    </tr>\n",
       "    <tr>\n",
       "      <td>7</td>\n",
       "      <td>3.396994</td>\n",
       "      <td>3.195556</td>\n",
       "      <td>0.440499</td>\n",
       "      <td>24.423742</td>\n",
       "      <td>01:44</td>\n",
       "    </tr>\n",
       "    <tr>\n",
       "      <td>8</td>\n",
       "      <td>3.362832</td>\n",
       "      <td>3.190961</td>\n",
       "      <td>0.441435</td>\n",
       "      <td>24.311789</td>\n",
       "      <td>01:40</td>\n",
       "    </tr>\n",
       "    <tr>\n",
       "      <td>9</td>\n",
       "      <td>3.352602</td>\n",
       "      <td>3.190133</td>\n",
       "      <td>0.441630</td>\n",
       "      <td>24.291660</td>\n",
       "      <td>01:37</td>\n",
       "    </tr>\n",
       "  </tbody>\n",
       "</table>"
      ],
      "text/plain": [
       "<IPython.core.display.HTML object>"
      ]
     },
     "metadata": {},
     "output_type": "display_data"
    }
   ],
   "source": [
    "learn.fit_one_cycle(10,2e-3)"
   ]
  },
  {
   "cell_type": "markdown",
   "metadata": {},
   "source": [
    "The accuracy above represents the models ability to predict the next word in a sequence from our disaster tweets data. `44.16%`! That's pretty dang good for something that took about the same time as our Word2Vec models.\n",
    "\n",
    "But we're not after text prediction, we're after text classification. Let's turn to that now.\n",
    "\n",
    "First, let's create a `DataBlock` that we'll pass to `text_classifier_learner`. Notice that now we're passing two blocks to the `blocks` parameter: `TextBlock` and `CategoryBlock`. We specify these with the `get_x` and `get_y` parameters. It is also important to note the new `TextBlock` parameter `vocab`. Without this, the language model fitting we did above will mean nothing!"
   ]
  },
  {
   "cell_type": "code",
   "execution_count": 87,
   "metadata": {},
   "outputs": [
    {
     "data": {
      "text/html": [],
      "text/plain": [
       "<IPython.core.display.HTML object>"
      ]
     },
     "metadata": {},
     "output_type": "display_data"
    }
   ],
   "source": [
    "dls_clas = DataBlock(\n",
    "    blocks=(TextBlock.from_df('text', vocab=dls_lm.vocab, seq_len=80), CategoryBlock),\n",
    "    get_x=ColReader('text'),\n",
    "    get_y=ColReader('target'),\n",
    "    splitter=RandomSplitter()\n",
    ").dataloaders(data, bs=128, seq_len=80)"
   ]
  },
  {
   "cell_type": "markdown",
   "metadata": {},
   "source": [
    "Check to see that our data is how we want it."
   ]
  },
  {
   "cell_type": "code",
   "execution_count": 88,
   "metadata": {},
   "outputs": [
    {
     "data": {
      "text/html": [
       "<table border=\"1\" class=\"dataframe\">\n",
       "  <thead>\n",
       "    <tr style=\"text-align: right;\">\n",
       "      <th></th>\n",
       "      <th>text</th>\n",
       "      <th>category</th>\n",
       "    </tr>\n",
       "  </thead>\n",
       "  <tbody>\n",
       "    <tr>\n",
       "      <th>0</th>\n",
       "      <td>xxbos _ xxunk xxrep 5 ? xxup retweet xxunk xxrep 7 ? xxunk xxrep 5 ? xxup follow xxup all xxup who xxup rt xxunk xxrep 7 ? xxunk xxrep 5 ? xxup xxunk xxunk xxrep 7 ? xxunk xxrep 5 ? xxup gain xxup with xxunk xxrep 7 ? xxunk xxrep 5 ? xxup follow ? xxunk # xxup xxunk xxunk # xxup ty</td>\n",
       "      <td>0</td>\n",
       "    </tr>\n",
       "    <tr>\n",
       "      <th>1</th>\n",
       "      <td>xxbos . : . : . : . : . : . : . : . : . : . : . : . : . : . : . : . : . : . : . : . : . : xxup rt xxunk : # xxunk \\n\\n xxmaj indian xxmaj army xxunk _ http : / / t.co / xxunk g xxpad</td>\n",
       "      <td>0</td>\n",
       "    </tr>\n",
       "    <tr>\n",
       "      <th>2</th>\n",
       "      <td>xxbos xxup info xxup s. xxup xxunk : xxunk / 6 . xxup xxunk : xxup xxunk xxup xxunk . xxup exp xxup xxunk xxup xxunk . xxup xxunk 05 . xxup curfew xxup in xxup xxunk xxup until xxunk xxup xxunk xxup xxunk xxup foxtrot 5 &amp; &amp; xxup foxtrot 6 xxup xxunk . xxup xxunk : 10 . xxpad xxpad xxpad xxpad xxpad</td>\n",
       "      <td>0</td>\n",
       "    </tr>\n",
       "  </tbody>\n",
       "</table>"
      ],
      "text/plain": [
       "<IPython.core.display.HTML object>"
      ]
     },
     "metadata": {},
     "output_type": "display_data"
    }
   ],
   "source": [
    "dls_clas.show_batch(max_n=3)"
   ]
  },
  {
   "cell_type": "markdown",
   "metadata": {},
   "source": [
    "Now it's time to create our text classifier model, again using transfer learning from the `AWD_LSTM` model provided by fastai. This time we want to see the accuracy and F1 score when testing on the validation set."
   ]
  },
  {
   "cell_type": "code",
   "execution_count": 89,
   "metadata": {},
   "outputs": [],
   "source": [
    "learn = text_classifier_learner(\n",
    "    dls_clas, AWD_LSTM, drop_mult=0.5,\n",
    "    metrics=[accuracy, F1Score()])"
   ]
  },
  {
   "cell_type": "markdown",
   "metadata": {},
   "source": [
    "Now we can fit:"
   ]
  },
  {
   "cell_type": "code",
   "execution_count": 90,
   "metadata": {},
   "outputs": [
    {
     "data": {
      "text/html": [
       "<table border=\"1\" class=\"dataframe\">\n",
       "  <thead>\n",
       "    <tr style=\"text-align: left;\">\n",
       "      <th>epoch</th>\n",
       "      <th>train_loss</th>\n",
       "      <th>valid_loss</th>\n",
       "      <th>accuracy</th>\n",
       "      <th>f1_score</th>\n",
       "      <th>time</th>\n",
       "    </tr>\n",
       "  </thead>\n",
       "  <tbody>\n",
       "    <tr>\n",
       "      <td>0</td>\n",
       "      <td>0.752347</td>\n",
       "      <td>0.520742</td>\n",
       "      <td>0.745729</td>\n",
       "      <td>0.674516</td>\n",
       "      <td>00:43</td>\n",
       "    </tr>\n",
       "  </tbody>\n",
       "</table>"
      ],
      "text/plain": [
       "<IPython.core.display.HTML object>"
      ]
     },
     "metadata": {},
     "output_type": "display_data"
    }
   ],
   "source": [
    "learn.fit_one_cycle(1, 2e-2)"
   ]
  },
  {
   "cell_type": "markdown",
   "metadata": {},
   "source": [
    "And that's. It.\n",
    "\n",
    "Crazy, right?! One last step that we need to take care of to inch our models accuracy up further is [gradual unfreezing](https://stats.stackexchange.com/questions/393168/what-does-it-mean-to-freeze-or-unfreeze-a-model). Unfreezing a few layers at a time seems to make a meaningful difference in NLP, so we'll do that here (in computer vision, the model will often be unfrozen all at once)."
   ]
  },
  {
   "cell_type": "code",
   "execution_count": 91,
   "metadata": {},
   "outputs": [
    {
     "data": {
      "text/html": [
       "<table border=\"1\" class=\"dataframe\">\n",
       "  <thead>\n",
       "    <tr style=\"text-align: left;\">\n",
       "      <th>epoch</th>\n",
       "      <th>train_loss</th>\n",
       "      <th>valid_loss</th>\n",
       "      <th>accuracy</th>\n",
       "      <th>f1_score</th>\n",
       "      <th>time</th>\n",
       "    </tr>\n",
       "  </thead>\n",
       "  <tbody>\n",
       "    <tr>\n",
       "      <td>0</td>\n",
       "      <td>0.643792</td>\n",
       "      <td>0.498137</td>\n",
       "      <td>0.766754</td>\n",
       "      <td>0.712084</td>\n",
       "      <td>00:52</td>\n",
       "    </tr>\n",
       "  </tbody>\n",
       "</table>"
      ],
      "text/plain": [
       "<IPython.core.display.HTML object>"
      ]
     },
     "metadata": {},
     "output_type": "display_data"
    }
   ],
   "source": [
    "learn.freeze_to(-2)\n",
    "learn.fit_one_cycle(1, slice(1e-2/(2.6**4),1e-2))"
   ]
  },
  {
   "cell_type": "code",
   "execution_count": 92,
   "metadata": {},
   "outputs": [
    {
     "data": {
      "text/html": [
       "<table border=\"1\" class=\"dataframe\">\n",
       "  <thead>\n",
       "    <tr style=\"text-align: left;\">\n",
       "      <th>epoch</th>\n",
       "      <th>train_loss</th>\n",
       "      <th>valid_loss</th>\n",
       "      <th>accuracy</th>\n",
       "      <th>f1_score</th>\n",
       "      <th>time</th>\n",
       "    </tr>\n",
       "  </thead>\n",
       "  <tbody>\n",
       "    <tr>\n",
       "      <td>0</td>\n",
       "      <td>0.547749</td>\n",
       "      <td>0.476135</td>\n",
       "      <td>0.777267</td>\n",
       "      <td>0.709512</td>\n",
       "      <td>01:32</td>\n",
       "    </tr>\n",
       "  </tbody>\n",
       "</table>"
      ],
      "text/plain": [
       "<IPython.core.display.HTML object>"
      ]
     },
     "metadata": {},
     "output_type": "display_data"
    }
   ],
   "source": [
    "learn.freeze_to(-3)\n",
    "learn.fit_one_cycle(1, slice(5e-3/(2.6**4),5e-3))"
   ]
  },
  {
   "cell_type": "code",
   "execution_count": 93,
   "metadata": {},
   "outputs": [
    {
     "data": {
      "text/html": [
       "<table border=\"1\" class=\"dataframe\">\n",
       "  <thead>\n",
       "    <tr style=\"text-align: left;\">\n",
       "      <th>epoch</th>\n",
       "      <th>train_loss</th>\n",
       "      <th>valid_loss</th>\n",
       "      <th>accuracy</th>\n",
       "      <th>f1_score</th>\n",
       "      <th>time</th>\n",
       "    </tr>\n",
       "  </thead>\n",
       "  <tbody>\n",
       "    <tr>\n",
       "      <td>0</td>\n",
       "      <td>0.491142</td>\n",
       "      <td>0.465297</td>\n",
       "      <td>0.783180</td>\n",
       "      <td>0.732143</td>\n",
       "      <td>02:07</td>\n",
       "    </tr>\n",
       "    <tr>\n",
       "      <td>1</td>\n",
       "      <td>0.473932</td>\n",
       "      <td>0.457790</td>\n",
       "      <td>0.793036</td>\n",
       "      <td>0.737719</td>\n",
       "      <td>02:08</td>\n",
       "    </tr>\n",
       "  </tbody>\n",
       "</table>"
      ],
      "text/plain": [
       "<IPython.core.display.HTML object>"
      ]
     },
     "metadata": {},
     "output_type": "display_data"
    }
   ],
   "source": [
    "learn.unfreeze()\n",
    "learn.fit_one_cycle(2, slice(1e-3/(2.6**4),1e-3))"
   ]
  },
  {
   "cell_type": "markdown",
   "metadata": {},
   "source": [
    "After fully unfreezing and fitting our model, our accuracy is... `79.30%`! Over 11% better than our best Word2Vec! Impressive. Our F1 score of `0.738` also blows away our best Word2Vec F1 score of `0.433`. Impressive, indeed.\n",
    "\n",
    "But how will transfer learning perform will the preprocessed tweets? Let's find out!"
   ]
  },
  {
   "cell_type": "markdown",
   "metadata": {},
   "source": [
    "### Transfer Learning with \"Simple\" Tweets"
   ]
  },
  {
   "cell_type": "markdown",
   "metadata": {},
   "source": [
    "In order to repeat the same process for transfer learning on the preprocessed tweets, we'll need to create a whole new language model for each set. This is done almost exactly in the same way as above. The two differences are:\n",
    "1. The column that your selecting from will change from `text` to `text_simple` or `text_spacy`.\n",
    "2. The `get_x` parameter when creating the `DataBlock` for the `text_classifier_learner`, `dls_clas`, must *remain* `text`, no matter the name of the column in the DataFrame that you are using as the independent variable. [[1]](https://forums.fast.ai/t/issue-with-textblock-from-df-dataloaders-only-accepting-one-column-name/77467)\n",
    "\n",
    "Knowing this, let's fit our language model!"
   ]
  },
  {
   "cell_type": "code",
   "execution_count": 94,
   "metadata": {},
   "outputs": [
    {
     "data": {
      "text/html": [
       "<table border=\"1\" class=\"dataframe\">\n",
       "  <thead>\n",
       "    <tr style=\"text-align: left;\">\n",
       "      <th>epoch</th>\n",
       "      <th>train_loss</th>\n",
       "      <th>valid_loss</th>\n",
       "      <th>accuracy</th>\n",
       "      <th>perplexity</th>\n",
       "      <th>time</th>\n",
       "    </tr>\n",
       "  </thead>\n",
       "  <tbody>\n",
       "    <tr>\n",
       "      <td>0</td>\n",
       "      <td>6.009004</td>\n",
       "      <td>5.068555</td>\n",
       "      <td>0.197061</td>\n",
       "      <td>158.944473</td>\n",
       "      <td>00:58</td>\n",
       "    </tr>\n",
       "  </tbody>\n",
       "</table>"
      ],
      "text/plain": [
       "<IPython.core.display.HTML object>"
      ]
     },
     "metadata": {},
     "output_type": "display_data"
    },
    {
     "data": {
      "text/html": [
       "<table border=\"1\" class=\"dataframe\">\n",
       "  <thead>\n",
       "    <tr style=\"text-align: left;\">\n",
       "      <th>epoch</th>\n",
       "      <th>train_loss</th>\n",
       "      <th>valid_loss</th>\n",
       "      <th>accuracy</th>\n",
       "      <th>perplexity</th>\n",
       "      <th>time</th>\n",
       "    </tr>\n",
       "  </thead>\n",
       "  <tbody>\n",
       "    <tr>\n",
       "      <td>0</td>\n",
       "      <td>5.313193</td>\n",
       "      <td>5.048050</td>\n",
       "      <td>0.201638</td>\n",
       "      <td>155.718506</td>\n",
       "      <td>00:57</td>\n",
       "    </tr>\n",
       "    <tr>\n",
       "      <td>1</td>\n",
       "      <td>5.282051</td>\n",
       "      <td>4.972396</td>\n",
       "      <td>0.211692</td>\n",
       "      <td>144.372375</td>\n",
       "      <td>00:57</td>\n",
       "    </tr>\n",
       "    <tr>\n",
       "      <td>2</td>\n",
       "      <td>5.232960</td>\n",
       "      <td>4.881814</td>\n",
       "      <td>0.219846</td>\n",
       "      <td>131.869598</td>\n",
       "      <td>00:58</td>\n",
       "    </tr>\n",
       "    <tr>\n",
       "      <td>3</td>\n",
       "      <td>5.169006</td>\n",
       "      <td>4.806246</td>\n",
       "      <td>0.229412</td>\n",
       "      <td>122.271782</td>\n",
       "      <td>00:57</td>\n",
       "    </tr>\n",
       "    <tr>\n",
       "      <td>4</td>\n",
       "      <td>5.102448</td>\n",
       "      <td>4.749909</td>\n",
       "      <td>0.234766</td>\n",
       "      <td>115.573761</td>\n",
       "      <td>00:57</td>\n",
       "    </tr>\n",
       "    <tr>\n",
       "      <td>5</td>\n",
       "      <td>5.040435</td>\n",
       "      <td>4.709253</td>\n",
       "      <td>0.237660</td>\n",
       "      <td>110.969269</td>\n",
       "      <td>01:01</td>\n",
       "    </tr>\n",
       "    <tr>\n",
       "      <td>6</td>\n",
       "      <td>4.987535</td>\n",
       "      <td>4.681636</td>\n",
       "      <td>0.241375</td>\n",
       "      <td>107.946518</td>\n",
       "      <td>01:02</td>\n",
       "    </tr>\n",
       "    <tr>\n",
       "      <td>7</td>\n",
       "      <td>4.935099</td>\n",
       "      <td>4.666973</td>\n",
       "      <td>0.243062</td>\n",
       "      <td>106.375267</td>\n",
       "      <td>01:02</td>\n",
       "    </tr>\n",
       "    <tr>\n",
       "      <td>8</td>\n",
       "      <td>4.900142</td>\n",
       "      <td>4.660895</td>\n",
       "      <td>0.244003</td>\n",
       "      <td>105.730652</td>\n",
       "      <td>01:02</td>\n",
       "    </tr>\n",
       "    <tr>\n",
       "      <td>9</td>\n",
       "      <td>4.867511</td>\n",
       "      <td>4.659934</td>\n",
       "      <td>0.244407</td>\n",
       "      <td>105.629066</td>\n",
       "      <td>01:02</td>\n",
       "    </tr>\n",
       "  </tbody>\n",
       "</table>"
      ],
      "text/plain": [
       "<IPython.core.display.HTML object>"
      ]
     },
     "metadata": {},
     "output_type": "display_data"
    },
    {
     "data": {
      "text/html": [],
      "text/plain": [
       "<IPython.core.display.HTML object>"
      ]
     },
     "metadata": {},
     "output_type": "display_data"
    }
   ],
   "source": [
    "#collapse\n",
    "dls_lm = DataBlock(\n",
    "    blocks=(TextBlock.from_df('text_simple', is_lm=True)),\n",
    "    get_items=ColReader('text_simple'),\n",
    "    splitter=RandomSplitter(0.1)\n",
    ").dataloaders(data, bs=128, seq_len=80)\n",
    "\n",
    "learn = language_model_learner(dls_lm, AWD_LSTM, drop_mult=0.3, metrics=[accuracy, Perplexity()])\n",
    "learn.fit_one_cycle(1, 2e-2)\n",
    "learn.fit_one_cycle(10,2e-3)\n",
    "\n",
    "dls_clas = DataBlock(\n",
    "    blocks=(TextBlock.from_df('text_simple', vocab=dls_lm.vocab, seq_len=80), CategoryBlock),\n",
    "    get_x=ColReader('text'),\n",
    "    get_y=ColReader('target'),\n",
    "    splitter=RandomSplitter()\n",
    ").dataloaders(data, bs=128, seq_len=80)"
   ]
  },
  {
   "cell_type": "markdown",
   "metadata": {},
   "source": [
    "Fit our text classifier:"
   ]
  },
  {
   "cell_type": "code",
   "execution_count": 95,
   "metadata": {},
   "outputs": [
    {
     "data": {
      "text/html": [
       "<table border=\"1\" class=\"dataframe\">\n",
       "  <thead>\n",
       "    <tr style=\"text-align: left;\">\n",
       "      <th>epoch</th>\n",
       "      <th>train_loss</th>\n",
       "      <th>valid_loss</th>\n",
       "      <th>accuracy</th>\n",
       "      <th>f1_score</th>\n",
       "      <th>time</th>\n",
       "    </tr>\n",
       "  </thead>\n",
       "  <tbody>\n",
       "    <tr>\n",
       "      <td>0</td>\n",
       "      <td>0.733424</td>\n",
       "      <td>0.527626</td>\n",
       "      <td>0.749014</td>\n",
       "      <td>0.694400</td>\n",
       "      <td>00:27</td>\n",
       "    </tr>\n",
       "  </tbody>\n",
       "</table>"
      ],
      "text/plain": [
       "<IPython.core.display.HTML object>"
      ]
     },
     "metadata": {},
     "output_type": "display_data"
    }
   ],
   "source": [
    "learn = text_classifier_learner(dls_clas, AWD_LSTM, drop_mult=0.5, metrics=[accuracy, F1Score()])\n",
    "learn.fit_one_cycle(1, 2e-2)"
   ]
  },
  {
   "cell_type": "markdown",
   "metadata": {},
   "source": [
    "Now gradually unfreeze:"
   ]
  },
  {
   "cell_type": "code",
   "execution_count": 96,
   "metadata": {},
   "outputs": [
    {
     "data": {
      "text/html": [
       "<table border=\"1\" class=\"dataframe\">\n",
       "  <thead>\n",
       "    <tr style=\"text-align: left;\">\n",
       "      <th>epoch</th>\n",
       "      <th>train_loss</th>\n",
       "      <th>valid_loss</th>\n",
       "      <th>accuracy</th>\n",
       "      <th>f1_score</th>\n",
       "      <th>time</th>\n",
       "    </tr>\n",
       "  </thead>\n",
       "  <tbody>\n",
       "    <tr>\n",
       "      <td>0</td>\n",
       "      <td>0.613524</td>\n",
       "      <td>0.516843</td>\n",
       "      <td>0.743101</td>\n",
       "      <td>0.703113</td>\n",
       "      <td>00:33</td>\n",
       "    </tr>\n",
       "  </tbody>\n",
       "</table>"
      ],
      "text/plain": [
       "<IPython.core.display.HTML object>"
      ]
     },
     "metadata": {},
     "output_type": "display_data"
    }
   ],
   "source": [
    "learn.freeze_to(-2)\n",
    "learn.fit_one_cycle(1, slice(1e-2/(2.6**4),1e-2))"
   ]
  },
  {
   "cell_type": "code",
   "execution_count": 97,
   "metadata": {},
   "outputs": [
    {
     "data": {
      "text/html": [
       "<table border=\"1\" class=\"dataframe\">\n",
       "  <thead>\n",
       "    <tr style=\"text-align: left;\">\n",
       "      <th>epoch</th>\n",
       "      <th>train_loss</th>\n",
       "      <th>valid_loss</th>\n",
       "      <th>accuracy</th>\n",
       "      <th>f1_score</th>\n",
       "      <th>time</th>\n",
       "    </tr>\n",
       "  </thead>\n",
       "  <tbody>\n",
       "    <tr>\n",
       "      <td>0</td>\n",
       "      <td>0.536539</td>\n",
       "      <td>0.490117</td>\n",
       "      <td>0.762155</td>\n",
       "      <td>0.720247</td>\n",
       "      <td>00:56</td>\n",
       "    </tr>\n",
       "  </tbody>\n",
       "</table>"
      ],
      "text/plain": [
       "<IPython.core.display.HTML object>"
      ]
     },
     "metadata": {},
     "output_type": "display_data"
    }
   ],
   "source": [
    "learn.freeze_to(-3)\n",
    "learn.fit_one_cycle(1, slice(5e-3/(2.6**4),5e-3))"
   ]
  },
  {
   "cell_type": "code",
   "execution_count": 98,
   "metadata": {},
   "outputs": [
    {
     "data": {
      "text/html": [
       "<table border=\"1\" class=\"dataframe\">\n",
       "  <thead>\n",
       "    <tr style=\"text-align: left;\">\n",
       "      <th>epoch</th>\n",
       "      <th>train_loss</th>\n",
       "      <th>valid_loss</th>\n",
       "      <th>accuracy</th>\n",
       "      <th>f1_score</th>\n",
       "      <th>time</th>\n",
       "    </tr>\n",
       "  </thead>\n",
       "  <tbody>\n",
       "    <tr>\n",
       "      <td>0</td>\n",
       "      <td>0.477936</td>\n",
       "      <td>0.467683</td>\n",
       "      <td>0.787122</td>\n",
       "      <td>0.732673</td>\n",
       "      <td>01:19</td>\n",
       "    </tr>\n",
       "    <tr>\n",
       "      <td>1</td>\n",
       "      <td>0.460449</td>\n",
       "      <td>0.468069</td>\n",
       "      <td>0.785808</td>\n",
       "      <td>0.731023</td>\n",
       "      <td>01:20</td>\n",
       "    </tr>\n",
       "  </tbody>\n",
       "</table>"
      ],
      "text/plain": [
       "<IPython.core.display.HTML object>"
      ]
     },
     "metadata": {},
     "output_type": "display_data"
    }
   ],
   "source": [
    "learn.unfreeze()\n",
    "learn.fit_one_cycle(2, slice(1e-3/(2.6**4),1e-3))"
   ]
  },
  {
   "cell_type": "markdown",
   "metadata": {},
   "source": [
    "Accuracy: `78.58%`. F1 score: `0.731`.\n",
    "\n",
    "Nearly the same as, but not quite better than the unprocessed tweets. This is the opposite of what happened with TF-IDF and Word2Vec.\n",
    "\n",
    "Let's see how the SpaCy tweets perform:"
   ]
  },
  {
   "cell_type": "markdown",
   "metadata": {},
   "source": [
    "### Transfer Learning with SpaCy Tweets"
   ]
  },
  {
   "cell_type": "markdown",
   "metadata": {},
   "source": [
    "Let's do the same thing with our tweets preprocessed with SpaCy.\n",
    "\n",
    "First, the language model:"
   ]
  },
  {
   "cell_type": "code",
   "execution_count": 99,
   "metadata": {},
   "outputs": [
    {
     "data": {
      "text/html": [
       "<table border=\"1\" class=\"dataframe\">\n",
       "  <thead>\n",
       "    <tr style=\"text-align: left;\">\n",
       "      <th>epoch</th>\n",
       "      <th>train_loss</th>\n",
       "      <th>valid_loss</th>\n",
       "      <th>accuracy</th>\n",
       "      <th>perplexity</th>\n",
       "      <th>time</th>\n",
       "    </tr>\n",
       "  </thead>\n",
       "  <tbody>\n",
       "    <tr>\n",
       "      <td>0</td>\n",
       "      <td>5.682709</td>\n",
       "      <td>4.324547</td>\n",
       "      <td>0.359819</td>\n",
       "      <td>75.531273</td>\n",
       "      <td>01:02</td>\n",
       "    </tr>\n",
       "  </tbody>\n",
       "</table>"
      ],
      "text/plain": [
       "<IPython.core.display.HTML object>"
      ]
     },
     "metadata": {},
     "output_type": "display_data"
    },
    {
     "data": {
      "text/html": [
       "<table border=\"1\" class=\"dataframe\">\n",
       "  <thead>\n",
       "    <tr style=\"text-align: left;\">\n",
       "      <th>epoch</th>\n",
       "      <th>train_loss</th>\n",
       "      <th>valid_loss</th>\n",
       "      <th>accuracy</th>\n",
       "      <th>perplexity</th>\n",
       "      <th>time</th>\n",
       "    </tr>\n",
       "  </thead>\n",
       "  <tbody>\n",
       "    <tr>\n",
       "      <td>0</td>\n",
       "      <td>4.665442</td>\n",
       "      <td>4.285821</td>\n",
       "      <td>0.361470</td>\n",
       "      <td>72.662209</td>\n",
       "      <td>01:01</td>\n",
       "    </tr>\n",
       "    <tr>\n",
       "      <td>1</td>\n",
       "      <td>4.583601</td>\n",
       "      <td>4.133880</td>\n",
       "      <td>0.388832</td>\n",
       "      <td>62.419621</td>\n",
       "      <td>01:01</td>\n",
       "    </tr>\n",
       "    <tr>\n",
       "      <td>2</td>\n",
       "      <td>4.486686</td>\n",
       "      <td>3.995918</td>\n",
       "      <td>0.411705</td>\n",
       "      <td>54.375725</td>\n",
       "      <td>01:02</td>\n",
       "    </tr>\n",
       "    <tr>\n",
       "      <td>3</td>\n",
       "      <td>4.398295</td>\n",
       "      <td>3.909034</td>\n",
       "      <td>0.419096</td>\n",
       "      <td>49.850784</td>\n",
       "      <td>01:01</td>\n",
       "    </tr>\n",
       "    <tr>\n",
       "      <td>4</td>\n",
       "      <td>4.326467</td>\n",
       "      <td>3.845958</td>\n",
       "      <td>0.424627</td>\n",
       "      <td>46.803497</td>\n",
       "      <td>01:02</td>\n",
       "    </tr>\n",
       "    <tr>\n",
       "      <td>5</td>\n",
       "      <td>4.241285</td>\n",
       "      <td>3.802249</td>\n",
       "      <td>0.428516</td>\n",
       "      <td>44.801819</td>\n",
       "      <td>01:01</td>\n",
       "    </tr>\n",
       "    <tr>\n",
       "      <td>6</td>\n",
       "      <td>4.178056</td>\n",
       "      <td>3.773062</td>\n",
       "      <td>0.433052</td>\n",
       "      <td>43.513077</td>\n",
       "      <td>01:01</td>\n",
       "    </tr>\n",
       "    <tr>\n",
       "      <td>7</td>\n",
       "      <td>4.115740</td>\n",
       "      <td>3.756646</td>\n",
       "      <td>0.434881</td>\n",
       "      <td>42.804615</td>\n",
       "      <td>01:01</td>\n",
       "    </tr>\n",
       "    <tr>\n",
       "      <td>8</td>\n",
       "      <td>4.073174</td>\n",
       "      <td>3.751379</td>\n",
       "      <td>0.435884</td>\n",
       "      <td>42.579758</td>\n",
       "      <td>01:01</td>\n",
       "    </tr>\n",
       "    <tr>\n",
       "      <td>9</td>\n",
       "      <td>4.039183</td>\n",
       "      <td>3.750412</td>\n",
       "      <td>0.436159</td>\n",
       "      <td>42.538593</td>\n",
       "      <td>01:01</td>\n",
       "    </tr>\n",
       "  </tbody>\n",
       "</table>"
      ],
      "text/plain": [
       "<IPython.core.display.HTML object>"
      ]
     },
     "metadata": {},
     "output_type": "display_data"
    },
    {
     "data": {
      "text/html": [],
      "text/plain": [
       "<IPython.core.display.HTML object>"
      ]
     },
     "metadata": {},
     "output_type": "display_data"
    }
   ],
   "source": [
    "#collapse\n",
    "dls_lm = DataBlock(\n",
    "    blocks=(TextBlock.from_df('text_spacy', is_lm=True)),\n",
    "    get_items=ColReader('text_spacy'),\n",
    "    splitter=RandomSplitter(0.1)\n",
    ").dataloaders(data, bs=128, seq_len=80)\n",
    "\n",
    "learn = language_model_learner(dls_lm, AWD_LSTM, drop_mult=0.3, metrics=[accuracy, Perplexity()])\n",
    "learn.fit_one_cycle(1, 2e-2)\n",
    "learn.fit_one_cycle(10,2e-3)\n",
    "\n",
    "dls_clas = DataBlock(\n",
    "    blocks=(TextBlock.from_df('text_spacy', vocab=dls_lm.vocab, seq_len=80), CategoryBlock),\n",
    "    get_x=ColReader('text'),\n",
    "    get_y=ColReader('target'),\n",
    "    splitter=RandomSplitter()\n",
    ").dataloaders(data, bs=128, seq_len=80)"
   ]
  },
  {
   "cell_type": "markdown",
   "metadata": {},
   "source": [
    "Then, fit the text classifier:"
   ]
  },
  {
   "cell_type": "code",
   "execution_count": 100,
   "metadata": {},
   "outputs": [
    {
     "data": {
      "text/html": [
       "<table border=\"1\" class=\"dataframe\">\n",
       "  <thead>\n",
       "    <tr style=\"text-align: left;\">\n",
       "      <th>epoch</th>\n",
       "      <th>train_loss</th>\n",
       "      <th>valid_loss</th>\n",
       "      <th>accuracy</th>\n",
       "      <th>f1_score</th>\n",
       "      <th>time</th>\n",
       "    </tr>\n",
       "  </thead>\n",
       "  <tbody>\n",
       "    <tr>\n",
       "      <td>0</td>\n",
       "      <td>0.796044</td>\n",
       "      <td>0.537777</td>\n",
       "      <td>0.747043</td>\n",
       "      <td>0.698039</td>\n",
       "      <td>00:30</td>\n",
       "    </tr>\n",
       "  </tbody>\n",
       "</table>"
      ],
      "text/plain": [
       "<IPython.core.display.HTML object>"
      ]
     },
     "metadata": {},
     "output_type": "display_data"
    }
   ],
   "source": [
    "learn = text_classifier_learner(dls_clas, AWD_LSTM, drop_mult=0.5, metrics=[accuracy, F1Score()])\n",
    "learn.fit_one_cycle(1, 2e-2)"
   ]
  },
  {
   "cell_type": "markdown",
   "metadata": {},
   "source": [
    "Gradually unfreeze the model:"
   ]
  },
  {
   "cell_type": "code",
   "execution_count": 101,
   "metadata": {},
   "outputs": [
    {
     "data": {
      "text/html": [
       "<table border=\"1\" class=\"dataframe\">\n",
       "  <thead>\n",
       "    <tr style=\"text-align: left;\">\n",
       "      <th>epoch</th>\n",
       "      <th>train_loss</th>\n",
       "      <th>valid_loss</th>\n",
       "      <th>accuracy</th>\n",
       "      <th>f1_score</th>\n",
       "      <th>time</th>\n",
       "    </tr>\n",
       "  </thead>\n",
       "  <tbody>\n",
       "    <tr>\n",
       "      <td>0</td>\n",
       "      <td>0.683284</td>\n",
       "      <td>0.511340</td>\n",
       "      <td>0.770039</td>\n",
       "      <td>0.720893</td>\n",
       "      <td>00:37</td>\n",
       "    </tr>\n",
       "  </tbody>\n",
       "</table>"
      ],
      "text/plain": [
       "<IPython.core.display.HTML object>"
      ]
     },
     "metadata": {},
     "output_type": "display_data"
    }
   ],
   "source": [
    "learn.freeze_to(-2)\n",
    "learn.fit_one_cycle(1, slice(1e-2/(2.6**4),1e-2))"
   ]
  },
  {
   "cell_type": "code",
   "execution_count": 102,
   "metadata": {},
   "outputs": [
    {
     "data": {
      "text/html": [
       "<table border=\"1\" class=\"dataframe\">\n",
       "  <thead>\n",
       "    <tr style=\"text-align: left;\">\n",
       "      <th>epoch</th>\n",
       "      <th>train_loss</th>\n",
       "      <th>valid_loss</th>\n",
       "      <th>accuracy</th>\n",
       "      <th>f1_score</th>\n",
       "      <th>time</th>\n",
       "    </tr>\n",
       "  </thead>\n",
       "  <tbody>\n",
       "    <tr>\n",
       "      <td>0</td>\n",
       "      <td>0.595137</td>\n",
       "      <td>0.488891</td>\n",
       "      <td>0.781209</td>\n",
       "      <td>0.722269</td>\n",
       "      <td>01:02</td>\n",
       "    </tr>\n",
       "  </tbody>\n",
       "</table>"
      ],
      "text/plain": [
       "<IPython.core.display.HTML object>"
      ]
     },
     "metadata": {},
     "output_type": "display_data"
    }
   ],
   "source": [
    "learn.freeze_to(-3)\n",
    "learn.fit_one_cycle(1, slice(5e-3/(2.6**4),5e-3))"
   ]
  },
  {
   "cell_type": "code",
   "execution_count": 103,
   "metadata": {},
   "outputs": [
    {
     "data": {
      "text/html": [
       "<table border=\"1\" class=\"dataframe\">\n",
       "  <thead>\n",
       "    <tr style=\"text-align: left;\">\n",
       "      <th>epoch</th>\n",
       "      <th>train_loss</th>\n",
       "      <th>valid_loss</th>\n",
       "      <th>accuracy</th>\n",
       "      <th>f1_score</th>\n",
       "      <th>time</th>\n",
       "    </tr>\n",
       "  </thead>\n",
       "  <tbody>\n",
       "    <tr>\n",
       "      <td>0</td>\n",
       "      <td>0.554800</td>\n",
       "      <td>0.465724</td>\n",
       "      <td>0.790407</td>\n",
       "      <td>0.739592</td>\n",
       "      <td>01:29</td>\n",
       "    </tr>\n",
       "    <tr>\n",
       "      <td>1</td>\n",
       "      <td>0.537899</td>\n",
       "      <td>0.456067</td>\n",
       "      <td>0.789750</td>\n",
       "      <td>0.724138</td>\n",
       "      <td>01:28</td>\n",
       "    </tr>\n",
       "  </tbody>\n",
       "</table>"
      ],
      "text/plain": [
       "<IPython.core.display.HTML object>"
      ]
     },
     "metadata": {},
     "output_type": "display_data"
    }
   ],
   "source": [
    "learn.unfreeze()\n",
    "learn.fit_one_cycle(2, slice(1e-3/(2.6**4),1e-3))"
   ]
  },
  {
   "cell_type": "markdown",
   "metadata": {},
   "source": [
    "Et voilà!\n",
    "\n",
    "Accuracy: `79.00%`. F1 score: `0.724`.\n",
    "\n",
    "So between the three datasets used in transfer learning, the unprocessed dataset seemed to perform the best! Unexpected, indeed."
   ]
  },
  {
   "cell_type": "markdown",
   "metadata": {},
   "source": [
    "# Conclusion"
   ]
  },
  {
   "cell_type": "markdown",
   "metadata": {},
   "source": [
    "Now that we've gone through each model: TF-IDF, Word2Vec, and transfer learning, it's time to compare the results:\n",
    "\n",
    "Model | Dataset | Accuracy | F1 Score\n",
    "---------- | ----------- | ------------- | -----------\n",
    "**TF-IDF** | Unprocessed | 64.08% | 0.530\n",
    "'' | \"Simple\" | 66.60% | 0.570\n",
    "'' | SpaCy | 64.02% | 0.489\n",
    "**Word2Vec** | Unprocessed | 63.39% | 0.278\n",
    "'' | \"Simple\" | 67.28% | 0.433\n",
    "'' | SpaCy | 64.44% | 0.324\n",
    "**Transfer Learning** | **Unprocessed** | **79.30%** | **0.738**\n",
    "'' | \"Simple\" | 75.58% | 0.731\n",
    "'' | SpaCy | 79.00% | 0.724"
   ]
  },
  {
   "cell_type": "markdown",
   "metadata": {},
   "source": [
    "And the winner is, unsurprisingly, transfer learning! What is surprising, however, is that of the three datasets that we used for transfer learning, the unprocessed dataset yielded the best results. This provides strong support for transfer learning, as it is able to extract nuances in natural language as opposed to augemented, unnatural language.\n",
    "\n",
    "If you're interesed in getting more involved with transfer learning, I strongly recommend Jeremy Howard and Rachel Thomas' course [Deep Learning for Coders](https://youtu.be/_QUEXsHfsA0). At the time of writing, this is an excellent resource for getting a really good, modern grasp of deep learning, provided you've got some basic Python programming experience. And it's all free!\n",
    "\n",
    "With that, I'll leave the reader to experiment further with text classification and langauge modeling.\n",
    "\n",
    "Questions I'm now asking myself:\n",
    "* What other preprocessing methods or data augmentations techniques could we have used?\n",
    "* What's a transformer?\n",
    "* How does BERT work?\n",
    "* Where else can we apply text classification to somehow learn something meaningful?"
   ]
  }
 ],
 "metadata": {
  "kernelspec": {
   "display_name": "Python 3",
   "language": "python",
   "name": "python3"
  },
  "language_info": {
   "codemirror_mode": {
    "name": "ipython",
    "version": 3
   },
   "file_extension": ".py",
   "mimetype": "text/x-python",
   "name": "python",
   "nbconvert_exporter": "python",
   "pygments_lexer": "ipython3",
   "version": "3.8.5"
  }
 },
 "nbformat": 4,
 "nbformat_minor": 4
}
